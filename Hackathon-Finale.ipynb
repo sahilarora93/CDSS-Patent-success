{
 "cells": [
  {
   "cell_type": "markdown",
   "metadata": {},
   "source": [
    "# Data Preprocessing"
   ]
  },
  {
   "cell_type": "code",
   "execution_count": 2,
   "metadata": {},
   "outputs": [],
   "source": [
    "import numpy as np \n",
    "import pandas as pd \n",
    "import matplotlib.pyplot as plt \n",
    "import os\n",
    "%matplotlib inline"
   ]
  },
  {
   "cell_type": "code",
   "execution_count": 3,
   "metadata": {},
   "outputs": [
    {
     "name": "stdout",
     "output_type": "stream",
     "text": [
      "<class 'pandas.core.frame.DataFrame'>\n",
      "RangeIndex: 530602 entries, 0 to 530601\n",
      "Data columns (total 71 columns):\n",
      "dateSubmitted      0 non-null float64\n",
      "applicationsKey    524659 non-null object\n",
      "countryCode        530602 non-null int64\n",
      "status             530602 non-null int64\n",
      "dateFiled          524651 non-null object\n",
      "dateIssued         330558 non-null object\n",
      "dateDead           309996 non-null object\n",
      "agreementsKey      499930 non-null object\n",
      "type               530602 non-null int64\n",
      "dateExecuted       499906 non-null object\n",
      "claimText          451187 non-null object\n",
      "independent        451192 non-null float64\n",
      "fundingAmount      297835 non-null float64\n",
      "person_1           529846 non-null object\n",
      "person_2           417906 non-null object\n",
      "person_3           234328 non-null object\n",
      "person_4           130283 non-null object\n",
      "person_5           88926 non-null object\n",
      "person_6           37918 non-null object\n",
      "person_7           17386 non-null object\n",
      "person_8           4823 non-null object\n",
      "person_9           3128 non-null object\n",
      "person_10          2100 non-null object\n",
      "person_11          1825 non-null object\n",
      "person_12          1522 non-null object\n",
      "person_13          15 non-null object\n",
      "person_14          9 non-null object\n",
      "person_15          7 non-null object\n",
      "person_16          1 non-null object\n",
      "person_17          1 non-null object\n",
      "person_18          1 non-null object\n",
      "person_19          1 non-null object\n",
      "dept_1             530602 non-null int64\n",
      "dept_2             530602 non-null int64\n",
      "dept_3             530602 non-null int64\n",
      "dept_4             530602 non-null int64\n",
      "dept_5             530602 non-null int64\n",
      "dept_6             530602 non-null int64\n",
      "dept_7             530602 non-null int64\n",
      "dept_8             530602 non-null int64\n",
      "dept_9             530602 non-null int64\n",
      "dept_10            530602 non-null int64\n",
      "dept_11            530602 non-null int64\n",
      "dept_12            530602 non-null int64\n",
      "dept_13            530602 non-null int64\n",
      "dept_14            530602 non-null int64\n",
      "dept_15            530602 non-null int64\n",
      "dept_16            530602 non-null int64\n",
      "dept_17            530602 non-null int64\n",
      "dept_18            530602 non-null int64\n",
      "dept_19            530602 non-null int64\n",
      "org_1              530602 non-null int64\n",
      "org_2              530602 non-null int64\n",
      "org_3              530602 non-null int64\n",
      "org_4              530602 non-null int64\n",
      "org_5              530602 non-null int64\n",
      "org_6              530602 non-null int64\n",
      "org_7              530602 non-null int64\n",
      "org_8              530602 non-null int64\n",
      "org_9              530602 non-null int64\n",
      "org_10             530602 non-null int64\n",
      "org_11             530602 non-null int64\n",
      "org_12             530602 non-null int64\n",
      "org_13             530602 non-null int64\n",
      "org_14             530602 non-null int64\n",
      "org_15             530602 non-null int64\n",
      "org_16             530602 non-null int64\n",
      "org_17             530602 non-null int64\n",
      "org_18             530602 non-null int64\n",
      "org_19             530602 non-null int64\n",
      "r_1                530602 non-null int64\n",
      "dtypes: float64(3), int64(42), object(26)\n",
      "memory usage: 287.4+ MB\n"
     ]
    }
   ],
   "source": [
    "# os.chdir('C:/Users/basja/Desktop/Hackathon')\n",
    "dataset = pd.read_csv('final_2.csv',low_memory=False)\n",
    "dataset.info()"
   ]
  },
  {
   "cell_type": "code",
   "execution_count": 4,
   "metadata": {},
   "outputs": [
    {
     "name": "stdout",
     "output_type": "stream",
     "text": [
      "['dateSubmitted', 'applicationsKey', 'countryCode', 'status', 'dateFiled', 'dateIssued', 'dateDead', 'agreementsKey', 'type', 'dateExecuted', 'claimText', 'independent', 'fundingAmount', 'person_1', 'person_2', 'person_3', 'person_4', 'person_5', 'person_6', 'person_7', 'person_8', 'person_9', 'person_10', 'person_11', 'person_12', 'person_13', 'person_14', 'person_15', 'person_16', 'person_17', 'person_18', 'person_19', 'dept_1', 'dept_2', 'dept_3', 'dept_4', 'dept_5', 'dept_6', 'dept_7', 'dept_8', 'dept_9', 'dept_10', 'dept_11', 'dept_12', 'dept_13', 'dept_14', 'dept_15', 'dept_16', 'dept_17', 'dept_18', 'dept_19', 'org_1', 'org_2', 'org_3', 'org_4', 'org_5', 'org_6', 'org_7', 'org_8', 'org_9', 'org_10', 'org_11', 'org_12', 'org_13', 'org_14', 'org_15', 'org_16', 'org_17', 'org_18', 'org_19', 'r_1']\n"
     ]
    }
   ],
   "source": [
    "#All column names in the dataset\n",
    "print(list(dataset))\n",
    "\n",
    "#setup dependent variables and independent variables for patentSuccessRating\n",
    "namesXpatent = ['fundingAmount', 'independent']#, 'dept_1']\n",
    "namesypatent = ['status']\n",
    "Xpatent = dataset[namesXpatent].values\n",
    "ypatent = dataset[namesypatent].values"
   ]
  },
  {
   "cell_type": "code",
   "execution_count": 5,
   "metadata": {},
   "outputs": [],
   "source": [
    "#setup dependent variables and independent variables for agreementSuccessRate\n",
    "#namesXagreement = ['funding', 'departmentLI','departmentI2', 'departmentI3', 'companyLI', 'companyI2', 'companyI3', 'patentType']\n",
    "namesXagreement = ['fundingAmount']#,'dept_1', 'org_1']\n",
    "succes = dataset['agreementsKey']\n",
    "namesyagreement = ['type']\n",
    "Xagreement = dataset[namesXagreement].values\n",
    "yagreement = dataset[namesyagreement].values"
   ]
  },
  {
   "cell_type": "code",
   "execution_count": 6,
   "metadata": {},
   "outputs": [
    {
     "data": {
      "text/plain": [
       "array([[5.000000e+00, 3.525947e+06],\n",
       "       [1.100000e+01, 3.525947e+06],\n",
       "       [1.100000e+01, 3.525947e+06],\n",
       "       ...,\n",
       "       [1.000000e+01,          nan],\n",
       "       [5.000000e+00, 0.000000e+00],\n",
       "       [1.000000e+01,          nan]])"
      ]
     },
     "execution_count": 6,
     "metadata": {},
     "output_type": "execute_result"
    }
   ],
   "source": [
    "#setup dependent variables and independent variables for revenue\n",
    "#namesXreturn = ['patentType', 'agreementType', 'funding', 'companyLI', 'companyI2', 'companyI3', 'depLI', 'depI2', 'depI3']\n",
    "\n",
    "namesXreturn = ['type', 'fundingAmount']#, 'dept_1', 'org_1']\n",
    "namesyreturn = ['r_1']\n",
    "Xreturn = dataset[namesXreturn].values\n",
    "yreturn = dataset[namesyreturn].values\n",
    "\n",
    "Xreturn"
   ]
  },
  {
   "cell_type": "code",
   "execution_count": 7,
   "metadata": {},
   "outputs": [
    {
     "data": {
      "text/plain": [
       "array([[5.00000000e+00, 3.52594700e+06],\n",
       "       [1.10000000e+01, 3.52594700e+06],\n",
       "       [1.10000000e+01, 3.52594700e+06],\n",
       "       ...,\n",
       "       [1.00000000e+01, 5.44116635e+06],\n",
       "       [5.00000000e+00, 0.00000000e+00],\n",
       "       [1.00000000e+01, 5.44116635e+06]])"
      ]
     },
     "execution_count": 7,
     "metadata": {},
     "output_type": "execute_result"
    }
   ],
   "source": [
    "#Dealing with missing values\n",
    "#-can remove the observation\n",
    "#-can use the mean\n",
    "from sklearn.preprocessing import Imputer\n",
    "imputer = Imputer(missing_values='NaN',strategy='mean',axis=0)# axis: use column mean or use row mean\n",
    "\n",
    "imputerpatent = imputer.fit(Xpatent[:,0:Xpatent.shape[1]])# here should choose only the column with missing value, otherwise will have errors\n",
    "Xpatent[:,0:Xpatent.shape[1]] = imputer.transform(Xpatent[:,0:Xpatent.shape[1]])\n",
    "Xpatent\n",
    "\n",
    "imputeragreement = imputer.fit(Xagreement[:,0:Xagreement.shape[1]])\n",
    "Xagreement[:,0:Xagreement.shape[1]] = imputer.transform(Xagreement[:,0:Xagreement.shape[1]])\n",
    "Xagreement\n",
    "\n",
    "imputerreturn = imputer.fit(Xreturn[:,0:Xreturn.shape[1]])# here should choose only the column with missing value, otherwise will have errors\n",
    "Xreturn[:,0:Xreturn.shape[1]] = imputer.transform(Xreturn[:,0:Xreturn.shape[1]])\n",
    "Xreturn"
   ]
  },
  {
   "cell_type": "code",
   "execution_count": 8,
   "metadata": {},
   "outputs": [],
   "source": [
    "# Deal with Categorical variables\n",
    "from sklearn.preprocessing import LabelEncoder, OneHotEncoder\n",
    "labelencoder_X=LabelEncoder()\n",
    "\n",
    "for i in range(2,Xpatent.shape[1]):\n",
    "    Xpatent[:,i]=labelencoder_X.fit_transform(Xpatent[:,i])\n",
    "    #up to this step, we assign 0,1,2 with order, which need to be eliminated. Thus we need to make it into dummy variables\n",
    "    # Creating dummy variables\n",
    "    onehotencoder=OneHotEncoder(categorical_features=[i])\n",
    "    Xpatent=onehotencoder.fit_transform(Xpatent).toarray()\n",
    "\n",
    "    labelencoder_y=LabelEncoder()\n",
    "    ypatent=labelencoder_y.fit_transform(ypatent)\n",
    "\n",
    "\n",
    "for i in range(1, Xagreement.shape[1]):\n",
    "    Xagreement[:,i]=labelencoder_X.fit_transform(Xagreement[:,i])#up to this step, we assign 0,1,2 with order, which need to be eliminated. Thus we need to make it into dummy variables\n",
    "    # Creating dummy variables\n",
    "    onehotencoder=OneHotEncoder(categorical_features=[i])\n",
    "    Xagreement=onehotencoder.fit_transform(Xagreement).toarray()\n",
    "\n",
    "    yagreement=labelencoder_y.fit_transform(yagreement)\n",
    "\n",
    "    \n",
    "for i in range(2, Xreturn.shape[1]):\n",
    "    Xreturn[:,i]=labelencoder_X.fit_transform(Xreturn[:,i])#up to this step, we assign 0,1,2 with order, which need to be eliminated. Thus we need to make it into dummy variables\n",
    "    # Creating dummy variables\n",
    "    onehotencoder=OneHotEncoder(categorical_features=[i])\n",
    "    Xreturn=onehotencoder.fit_transform(Xreturn).toarray()\n",
    "\n",
    "    yreturn=labelencoder_y.fit_transform(yreturn)"
   ]
  },
  {
   "cell_type": "code",
   "execution_count": 9,
   "metadata": {},
   "outputs": [
    {
     "name": "stderr",
     "output_type": "stream",
     "text": [
      "/anaconda3/lib/python3.6/site-packages/sklearn/cross_validation.py:41: DeprecationWarning: This module was deprecated in version 0.18 in favor of the model_selection module into which all the refactored classes and functions are moved. Also note that the interface of the new CV iterators are different from that of this module. This module will be removed in 0.20.\n",
      "  \"This module will be removed in 0.20.\", DeprecationWarning)\n"
     ]
    },
    {
     "data": {
      "text/plain": [
       "(265301, 2)"
      ]
     },
     "execution_count": 9,
     "metadata": {},
     "output_type": "execute_result"
    }
   ],
   "source": [
    "# Splitting the Dataset into Training set and the Test set\n",
    "from sklearn.cross_validation import train_test_split\n",
    "Xpatent_train, Xpatent_test, ypatent_train, ypatent_test=train_test_split(Xpatent,ypatent,test_size=0.5,random_state=0)\n",
    "Xagreement_train, Xagreement_test, yagreement_train, yagreement_test=train_test_split(Xagreement,yagreement,test_size=0.5,random_state=0)\n",
    "Xreturn_train, Xreturn_test, yreturn_train, yreturn_test=train_test_split(Xreturn,yreturn,test_size=0.5,random_state=0)\n",
    "#the first parameters is array, so cannot put in the whole dataset\n",
    "Xpatent_train.shape"
   ]
  },
  {
   "cell_type": "code",
   "execution_count": 10,
   "metadata": {},
   "outputs": [],
   "source": [
    "#Feature Scaling\n",
    "\n",
    "# why we should scale the data.\n",
    "#(1)If the variables does not have the same range, than the distance between the two variables will be dominated by the variable with a larger range.\n",
    "#(2)If we do not scale, it will run for a very long time, for instance decision trees\n",
    "\n",
    "#starndardisation: (x-mean)/standard deviation\n",
    "#normalisation: (x-min)/(max-min)\n",
    "from sklearn.preprocessing import StandardScaler\n",
    "sc_X=StandardScaler()\n",
    "Xpatent_train=sc_X.fit_transform(Xpatent_train)\n",
    "Xpatent_test=sc_X.transform(Xpatent_test)#test only need \"transform\"\n",
    "\n",
    "Xagreement_train=sc_X.fit_transform(Xagreement_train)\n",
    "Xagreement_test=sc_X.transform(Xagreement_test)#test only need \"transform\"\n",
    "\n",
    "Xreturn_train=sc_X.fit_transform(Xreturn_train)\n",
    "Xreturn_test=sc_X.transform(Xreturn_test)#test only need \"transform\"\n",
    "\n",
    "#Should dummy variables be scaled?\n",
    "#(1) no: already in the same scale as other variables;\n",
    "#(2) yes: scaling will not harm the predictive results.\n",
    "\n",
    "# do not need to scale the dependent variables here since it is 0,1; for other regression model, yes"
   ]
  },
  {
   "cell_type": "markdown",
   "metadata": {},
   "source": [
    "# Regression\n",
    "In this part, you will understand and learn how to implement the following Machine Learning Regression models:\n",
    "\n",
    "- Simple Linear Regression\n",
    "- Multiple Linear Regression\n",
    "- Polynomial Regression\n",
    "- Support Vector for Regression (SVR)\n",
    "- Decision Tree Classification\n",
    "- Random Forest Classification"
   ]
  },
  {
   "cell_type": "markdown",
   "metadata": {},
   "source": [
    "## Multiple linear regression"
   ]
  },
  {
   "cell_type": "code",
   "execution_count": 145,
   "metadata": {},
   "outputs": [
    {
     "data": {
      "text/plain": [
       "LinearRegression(copy_X=True, fit_intercept=True, n_jobs=1, normalize=False)"
      ]
     },
     "execution_count": 145,
     "metadata": {},
     "output_type": "execute_result"
    }
   ],
   "source": [
    "#Fitting multiple linear regression\n",
    "from sklearn.linear_model import LinearRegression\n",
    "regressor=LinearRegression()\n",
    "regressor.fit(Xpatent_train,ypatent_train)\n",
    "#regressor.fit(Xagreement_train,yagreement_train)\n",
    "#regressor.fit(Xreturn_train,yreturn_train)"
   ]
  },
  {
   "cell_type": "code",
   "execution_count": 146,
   "metadata": {
    "collapsed": true
   },
   "outputs": [],
   "source": [
    "# Predicting the Test set results\n",
    "ypatent_pred=regressor.predict(Xpatent_test)\n",
    "#yagreement_pred=regressor.predict(Xagreement_test)\n",
    "#yreturn_pred=regressor.predict(Xreturn_test)"
   ]
  },
  {
   "cell_type": "code",
   "execution_count": 147,
   "metadata": {
    "collapsed": true
   },
   "outputs": [],
   "source": [
    "#Building the optimal model using Backward Elimination\n",
    "import statsmodels.formula.api as sm \n",
    "# this model does not have the take x0 into consideration\n",
    "# thus need to add one row that contains only 1 to create B0\n",
    "# this is needed for backward elimination\n",
    "\n",
    "\n",
    "#Adjust dimensions\n",
    "Xpatent=np.append(arr=np.ones((Xpatent.shape[0],Xpatent.shape[1])).astype(int), values=Xpatent,axis=1)\n",
    "Xagreement=np.append(arr=np.ones((Xagreement.shape[0],Xagreement.shape[1])).astype(int), values=Xagreement,axis=1)\n",
    "Xreturn=np.append(arr=np.ones((Xreturn.shape[0],Xreturn.shape[1])).astype(int), values=Xreturn,axis=1)"
   ]
  },
  {
   "cell_type": "code",
   "execution_count": 148,
   "metadata": {
    "collapsed": true
   },
   "outputs": [],
   "source": [
    "#Xpatent_opt=Xpatent[:,[0,1,2,3,4,5]] #the basket created to hold the final variables\n",
    "#Xagreement_opt=Xagreement[:,[0,1,2,3,4,5]] \n",
    "#Xreturn_opt=Xagreement[:,[0,1,2,3,4,5]] "
   ]
  },
  {
   "cell_type": "code",
   "execution_count": 149,
   "metadata": {
    "scrolled": true
   },
   "outputs": [
    {
     "data": {
      "text/html": [
       "<table class=\"simpletable\">\n",
       "<caption>OLS Regression Results</caption>\n",
       "<tr>\n",
       "  <th>Dep. Variable:</th>            <td>y</td>        <th>  R-squared:         </th>  <td>   0.015</td>  \n",
       "</tr>\n",
       "<tr>\n",
       "  <th>Model:</th>                   <td>OLS</td>       <th>  Adj. R-squared:    </th>  <td>   0.014</td>  \n",
       "</tr>\n",
       "<tr>\n",
       "  <th>Method:</th>             <td>Least Squares</td>  <th>  F-statistic:       </th>  <td>   600.7</td>  \n",
       "</tr>\n",
       "<tr>\n",
       "  <th>Date:</th>             <td>Sun, 30 Sep 2018</td> <th>  Prob (F-statistic):</th>   <td>  0.00</td>   \n",
       "</tr>\n",
       "<tr>\n",
       "  <th>Time:</th>                 <td>07:15:53</td>     <th>  Log-Likelihood:    </th> <td>-9.1256e+05</td>\n",
       "</tr>\n",
       "<tr>\n",
       "  <th>No. Observations:</th>      <td>530602</td>      <th>  AIC:               </th>  <td>1.825e+06</td> \n",
       "</tr>\n",
       "<tr>\n",
       "  <th>Df Residuals:</th>          <td>530588</td>      <th>  BIC:               </th>  <td>1.825e+06</td> \n",
       "</tr>\n",
       "<tr>\n",
       "  <th>Df Model:</th>              <td>    13</td>      <th>                     </th>      <td> </td>     \n",
       "</tr>\n",
       "<tr>\n",
       "  <th>Covariance Type:</th>      <td>nonrobust</td>    <th>                     </th>      <td> </td>     \n",
       "</tr>\n",
       "</table>\n",
       "<table class=\"simpletable\">\n",
       "<tr>\n",
       "    <td></td>       <th>coef</th>     <th>std err</th>      <th>t</th>      <th>P>|t|</th>  <th>[0.025</th>    <th>0.975]</th>  \n",
       "</tr>\n",
       "<tr>\n",
       "  <th>const</th> <td>    0.0856</td> <td>    0.001</td> <td>  116.430</td> <td> 0.000</td> <td>    0.084</td> <td>    0.087</td>\n",
       "</tr>\n",
       "<tr>\n",
       "  <th>x1</th>    <td>    0.0856</td> <td>    0.001</td> <td>  116.430</td> <td> 0.000</td> <td>    0.084</td> <td>    0.087</td>\n",
       "</tr>\n",
       "<tr>\n",
       "  <th>x2</th>    <td>    0.0856</td> <td>    0.001</td> <td>  116.430</td> <td> 0.000</td> <td>    0.084</td> <td>    0.087</td>\n",
       "</tr>\n",
       "<tr>\n",
       "  <th>x3</th>    <td>    0.0856</td> <td>    0.001</td> <td>  116.430</td> <td> 0.000</td> <td>    0.084</td> <td>    0.087</td>\n",
       "</tr>\n",
       "<tr>\n",
       "  <th>x4</th>    <td>    0.0856</td> <td>    0.001</td> <td>  116.430</td> <td> 0.000</td> <td>    0.084</td> <td>    0.087</td>\n",
       "</tr>\n",
       "<tr>\n",
       "  <th>x5</th>    <td>    0.0856</td> <td>    0.001</td> <td>  116.430</td> <td> 0.000</td> <td>    0.084</td> <td>    0.087</td>\n",
       "</tr>\n",
       "<tr>\n",
       "  <th>x6</th>    <td>    0.0856</td> <td>    0.001</td> <td>  116.430</td> <td> 0.000</td> <td>    0.084</td> <td>    0.087</td>\n",
       "</tr>\n",
       "<tr>\n",
       "  <th>x7</th>    <td>    0.0856</td> <td>    0.001</td> <td>  116.430</td> <td> 0.000</td> <td>    0.084</td> <td>    0.087</td>\n",
       "</tr>\n",
       "<tr>\n",
       "  <th>x8</th>    <td>    0.0856</td> <td>    0.001</td> <td>  116.430</td> <td> 0.000</td> <td>    0.084</td> <td>    0.087</td>\n",
       "</tr>\n",
       "<tr>\n",
       "  <th>x9</th>    <td>    0.0856</td> <td>    0.001</td> <td>  116.430</td> <td> 0.000</td> <td>    0.084</td> <td>    0.087</td>\n",
       "</tr>\n",
       "<tr>\n",
       "  <th>x10</th>   <td>    0.0856</td> <td>    0.001</td> <td>  116.430</td> <td> 0.000</td> <td>    0.084</td> <td>    0.087</td>\n",
       "</tr>\n",
       "<tr>\n",
       "  <th>x11</th>   <td>    0.0856</td> <td>    0.001</td> <td>  116.430</td> <td> 0.000</td> <td>    0.084</td> <td>    0.087</td>\n",
       "</tr>\n",
       "<tr>\n",
       "  <th>x12</th>   <td>    0.0856</td> <td>    0.001</td> <td>  116.430</td> <td> 0.000</td> <td>    0.084</td> <td>    0.087</td>\n",
       "</tr>\n",
       "<tr>\n",
       "  <th>x13</th>   <td>    0.0856</td> <td>    0.001</td> <td>  116.430</td> <td> 0.000</td> <td>    0.084</td> <td>    0.087</td>\n",
       "</tr>\n",
       "<tr>\n",
       "  <th>x14</th>   <td>    0.2120</td> <td>    0.011</td> <td>   19.913</td> <td> 0.000</td> <td>    0.191</td> <td>    0.233</td>\n",
       "</tr>\n",
       "<tr>\n",
       "  <th>x15</th>   <td>    0.1666</td> <td>    0.015</td> <td>   11.198</td> <td> 0.000</td> <td>    0.137</td> <td>    0.196</td>\n",
       "</tr>\n",
       "<tr>\n",
       "  <th>x16</th>   <td>   -0.3312</td> <td>    0.012</td> <td>  -26.720</td> <td> 0.000</td> <td>   -0.355</td> <td>   -0.307</td>\n",
       "</tr>\n",
       "<tr>\n",
       "  <th>x17</th>   <td>    0.0006</td> <td>    0.011</td> <td>    0.054</td> <td> 0.957</td> <td>   -0.022</td> <td>    0.023</td>\n",
       "</tr>\n",
       "<tr>\n",
       "  <th>x18</th>   <td>   -0.3392</td> <td>    0.016</td> <td>  -21.403</td> <td> 0.000</td> <td>   -0.370</td> <td>   -0.308</td>\n",
       "</tr>\n",
       "<tr>\n",
       "  <th>x19</th>   <td>   -0.0589</td> <td>    0.011</td> <td>   -5.375</td> <td> 0.000</td> <td>   -0.080</td> <td>   -0.037</td>\n",
       "</tr>\n",
       "<tr>\n",
       "  <th>x20</th>   <td>    0.0744</td> <td>    0.011</td> <td>    6.697</td> <td> 0.000</td> <td>    0.053</td> <td>    0.096</td>\n",
       "</tr>\n",
       "<tr>\n",
       "  <th>x21</th>   <td>    0.1621</td> <td>    0.014</td> <td>   11.611</td> <td> 0.000</td> <td>    0.135</td> <td>    0.189</td>\n",
       "</tr>\n",
       "<tr>\n",
       "  <th>x22</th>   <td>    0.0490</td> <td>    0.012</td> <td>    4.098</td> <td> 0.000</td> <td>    0.026</td> <td>    0.072</td>\n",
       "</tr>\n",
       "<tr>\n",
       "  <th>x23</th>   <td>   -0.2217</td> <td>    0.014</td> <td>  -16.017</td> <td> 0.000</td> <td>   -0.249</td> <td>   -0.195</td>\n",
       "</tr>\n",
       "<tr>\n",
       "  <th>x24</th>   <td>    0.1570</td> <td>    0.109</td> <td>    1.439</td> <td> 0.150</td> <td>   -0.057</td> <td>    0.371</td>\n",
       "</tr>\n",
       "<tr>\n",
       "  <th>x25</th>   <td>    0.2149</td> <td>    0.018</td> <td>   11.761</td> <td> 0.000</td> <td>    0.179</td> <td>    0.251</td>\n",
       "</tr>\n",
       "<tr>\n",
       "  <th>x26</th>   <td> 3.556e-09</td> <td> 1.84e-10</td> <td>   19.354</td> <td> 0.000</td> <td>  3.2e-09</td> <td> 3.92e-09</td>\n",
       "</tr>\n",
       "<tr>\n",
       "  <th>x27</th>   <td>    0.0211</td> <td>    0.005</td> <td>    3.991</td> <td> 0.000</td> <td>    0.011</td> <td>    0.031</td>\n",
       "</tr>\n",
       "</table>\n",
       "<table class=\"simpletable\">\n",
       "<tr>\n",
       "  <th>Omnibus:</th>       <td>12713.200</td> <th>  Durbin-Watson:     </th> <td>   0.057</td> \n",
       "</tr>\n",
       "<tr>\n",
       "  <th>Prob(Omnibus):</th>  <td> 0.000</td>   <th>  Jarque-Bera (JB):  </th> <td>64940.877</td>\n",
       "</tr>\n",
       "<tr>\n",
       "  <th>Skew:</th>           <td> 0.393</td>   <th>  Prob(JB):          </th> <td>    0.00</td> \n",
       "</tr>\n",
       "<tr>\n",
       "  <th>Kurtosis:</th>       <td> 1.477</td>   <th>  Cond. No.          </th> <td>1.87e+19</td> \n",
       "</tr>\n",
       "</table>"
      ],
      "text/plain": [
       "<class 'statsmodels.iolib.summary.Summary'>\n",
       "\"\"\"\n",
       "                            OLS Regression Results                            \n",
       "==============================================================================\n",
       "Dep. Variable:                      y   R-squared:                       0.015\n",
       "Model:                            OLS   Adj. R-squared:                  0.014\n",
       "Method:                 Least Squares   F-statistic:                     600.7\n",
       "Date:                Sun, 30 Sep 2018   Prob (F-statistic):               0.00\n",
       "Time:                        07:15:53   Log-Likelihood:            -9.1256e+05\n",
       "No. Observations:              530602   AIC:                         1.825e+06\n",
       "Df Residuals:                  530588   BIC:                         1.825e+06\n",
       "Df Model:                          13                                         \n",
       "Covariance Type:            nonrobust                                         \n",
       "==============================================================================\n",
       "                 coef    std err          t      P>|t|      [0.025      0.975]\n",
       "------------------------------------------------------------------------------\n",
       "const          0.0856      0.001    116.430      0.000       0.084       0.087\n",
       "x1             0.0856      0.001    116.430      0.000       0.084       0.087\n",
       "x2             0.0856      0.001    116.430      0.000       0.084       0.087\n",
       "x3             0.0856      0.001    116.430      0.000       0.084       0.087\n",
       "x4             0.0856      0.001    116.430      0.000       0.084       0.087\n",
       "x5             0.0856      0.001    116.430      0.000       0.084       0.087\n",
       "x6             0.0856      0.001    116.430      0.000       0.084       0.087\n",
       "x7             0.0856      0.001    116.430      0.000       0.084       0.087\n",
       "x8             0.0856      0.001    116.430      0.000       0.084       0.087\n",
       "x9             0.0856      0.001    116.430      0.000       0.084       0.087\n",
       "x10            0.0856      0.001    116.430      0.000       0.084       0.087\n",
       "x11            0.0856      0.001    116.430      0.000       0.084       0.087\n",
       "x12            0.0856      0.001    116.430      0.000       0.084       0.087\n",
       "x13            0.0856      0.001    116.430      0.000       0.084       0.087\n",
       "x14            0.2120      0.011     19.913      0.000       0.191       0.233\n",
       "x15            0.1666      0.015     11.198      0.000       0.137       0.196\n",
       "x16           -0.3312      0.012    -26.720      0.000      -0.355      -0.307\n",
       "x17            0.0006      0.011      0.054      0.957      -0.022       0.023\n",
       "x18           -0.3392      0.016    -21.403      0.000      -0.370      -0.308\n",
       "x19           -0.0589      0.011     -5.375      0.000      -0.080      -0.037\n",
       "x20            0.0744      0.011      6.697      0.000       0.053       0.096\n",
       "x21            0.1621      0.014     11.611      0.000       0.135       0.189\n",
       "x22            0.0490      0.012      4.098      0.000       0.026       0.072\n",
       "x23           -0.2217      0.014    -16.017      0.000      -0.249      -0.195\n",
       "x24            0.1570      0.109      1.439      0.150      -0.057       0.371\n",
       "x25            0.2149      0.018     11.761      0.000       0.179       0.251\n",
       "x26         3.556e-09   1.84e-10     19.354      0.000     3.2e-09    3.92e-09\n",
       "x27            0.0211      0.005      3.991      0.000       0.011       0.031\n",
       "==============================================================================\n",
       "Omnibus:                    12713.200   Durbin-Watson:                   0.057\n",
       "Prob(Omnibus):                  0.000   Jarque-Bera (JB):            64940.877\n",
       "Skew:                           0.393   Prob(JB):                         0.00\n",
       "Kurtosis:                       1.477   Cond. No.                     1.87e+19\n",
       "==============================================================================\n",
       "\n",
       "Warnings:\n",
       "[1] Standard Errors assume that the covariance matrix of the errors is correctly specified.\n",
       "[2] The smallest eigenvalue is 2.01e-19. This might indicate that there are\n",
       "strong multicollinearity problems or that the design matrix is singular.\n",
       "\"\"\""
      ]
     },
     "execution_count": 149,
     "metadata": {},
     "output_type": "execute_result"
    }
   ],
   "source": [
    "regressor_OLS=sm.OLS(endog=ypatent, exog=Xpatent).fit()#ordinary least square\n",
    "regressor_OLS.summary()"
   ]
  },
  {
   "cell_type": "code",
   "execution_count": 134,
   "metadata": {
    "scrolled": true
   },
   "outputs": [
    {
     "data": {
      "text/html": [
       "<table class=\"simpletable\">\n",
       "<caption>OLS Regression Results</caption>\n",
       "<tr>\n",
       "  <th>Dep. Variable:</th>            <td>y</td>        <th>  R-squared:         </th>  <td>   1.000</td> \n",
       "</tr>\n",
       "<tr>\n",
       "  <th>Model:</th>                   <td>OLS</td>       <th>  Adj. R-squared:    </th>  <td>   1.000</td> \n",
       "</tr>\n",
       "<tr>\n",
       "  <th>Method:</th>             <td>Least Squares</td>  <th>  F-statistic:       </th>  <td>2.378e+25</td>\n",
       "</tr>\n",
       "<tr>\n",
       "  <th>Date:</th>             <td>Sun, 30 Sep 2018</td> <th>  Prob (F-statistic):</th>   <td>  0.00</td>  \n",
       "</tr>\n",
       "<tr>\n",
       "  <th>Time:</th>                 <td>07:14:16</td>     <th>  Log-Likelihood:    </th> <td>1.1350e+07</td>\n",
       "</tr>\n",
       "<tr>\n",
       "  <th>No. Observations:</th>      <td>530602</td>      <th>  AIC:               </th> <td>-2.270e+07</td>\n",
       "</tr>\n",
       "<tr>\n",
       "  <th>Df Residuals:</th>          <td>530588</td>      <th>  BIC:               </th> <td>-2.270e+07</td>\n",
       "</tr>\n",
       "<tr>\n",
       "  <th>Df Model:</th>              <td>    13</td>      <th>                     </th>      <td> </td>    \n",
       "</tr>\n",
       "<tr>\n",
       "  <th>Covariance Type:</th>      <td>nonrobust</td>    <th>                     </th>      <td> </td>    \n",
       "</tr>\n",
       "</table>\n",
       "<table class=\"simpletable\">\n",
       "<tr>\n",
       "    <td></td>       <th>coef</th>     <th>std err</th>      <th>t</th>      <th>P>|t|</th>  <th>[0.025</th>    <th>0.975]</th>  \n",
       "</tr>\n",
       "<tr>\n",
       "  <th>const</th> <td>    0.0007</td> <td> 4.91e-14</td> <td> 1.34e+10</td> <td> 0.000</td> <td>    0.001</td> <td>    0.001</td>\n",
       "</tr>\n",
       "<tr>\n",
       "  <th>x1</th>    <td>    0.0007</td> <td> 4.91e-14</td> <td> 1.34e+10</td> <td> 0.000</td> <td>    0.001</td> <td>    0.001</td>\n",
       "</tr>\n",
       "<tr>\n",
       "  <th>x2</th>    <td>    0.0007</td> <td> 4.91e-14</td> <td> 1.34e+10</td> <td> 0.000</td> <td>    0.001</td> <td>    0.001</td>\n",
       "</tr>\n",
       "<tr>\n",
       "  <th>x3</th>    <td>    0.0007</td> <td> 4.91e-14</td> <td> 1.34e+10</td> <td> 0.000</td> <td>    0.001</td> <td>    0.001</td>\n",
       "</tr>\n",
       "<tr>\n",
       "  <th>x4</th>    <td>    0.0007</td> <td> 4.91e-14</td> <td> 1.34e+10</td> <td> 0.000</td> <td>    0.001</td> <td>    0.001</td>\n",
       "</tr>\n",
       "<tr>\n",
       "  <th>x5</th>    <td>    0.0007</td> <td> 4.91e-14</td> <td> 1.34e+10</td> <td> 0.000</td> <td>    0.001</td> <td>    0.001</td>\n",
       "</tr>\n",
       "<tr>\n",
       "  <th>x6</th>    <td>    0.0007</td> <td> 4.91e-14</td> <td> 1.34e+10</td> <td> 0.000</td> <td>    0.001</td> <td>    0.001</td>\n",
       "</tr>\n",
       "<tr>\n",
       "  <th>x7</th>    <td>    0.0007</td> <td> 4.91e-14</td> <td> 1.34e+10</td> <td> 0.000</td> <td>    0.001</td> <td>    0.001</td>\n",
       "</tr>\n",
       "<tr>\n",
       "  <th>x8</th>    <td>    0.0007</td> <td> 4.91e-14</td> <td> 1.34e+10</td> <td> 0.000</td> <td>    0.001</td> <td>    0.001</td>\n",
       "</tr>\n",
       "<tr>\n",
       "  <th>x9</th>    <td>    0.0007</td> <td> 4.91e-14</td> <td> 1.34e+10</td> <td> 0.000</td> <td>    0.001</td> <td>    0.001</td>\n",
       "</tr>\n",
       "<tr>\n",
       "  <th>x10</th>   <td>    0.0007</td> <td> 4.91e-14</td> <td> 1.34e+10</td> <td> 0.000</td> <td>    0.001</td> <td>    0.001</td>\n",
       "</tr>\n",
       "<tr>\n",
       "  <th>x11</th>   <td>    0.0007</td> <td> 4.91e-14</td> <td> 1.34e+10</td> <td> 0.000</td> <td>    0.001</td> <td>    0.001</td>\n",
       "</tr>\n",
       "<tr>\n",
       "  <th>x12</th>   <td>    0.0007</td> <td> 4.91e-14</td> <td> 1.34e+10</td> <td> 0.000</td> <td>    0.001</td> <td>    0.001</td>\n",
       "</tr>\n",
       "<tr>\n",
       "  <th>x13</th>   <td>    0.0007</td> <td> 4.91e-14</td> <td> 1.34e+10</td> <td> 0.000</td> <td>    0.001</td> <td>    0.001</td>\n",
       "</tr>\n",
       "<tr>\n",
       "  <th>x14</th>   <td>    0.0007</td> <td> 4.91e-14</td> <td> 1.34e+10</td> <td> 0.000</td> <td>    0.001</td> <td>    0.001</td>\n",
       "</tr>\n",
       "<tr>\n",
       "  <th>x15</th>   <td>    0.0007</td> <td> 4.91e-14</td> <td> 1.34e+10</td> <td> 0.000</td> <td>    0.001</td> <td>    0.001</td>\n",
       "</tr>\n",
       "<tr>\n",
       "  <th>x16</th>   <td>    0.0007</td> <td> 4.91e-14</td> <td> 1.34e+10</td> <td> 0.000</td> <td>    0.001</td> <td>    0.001</td>\n",
       "</tr>\n",
       "<tr>\n",
       "  <th>x17</th>   <td>    0.0196</td> <td> 6.18e-13</td> <td> 3.16e+10</td> <td> 0.000</td> <td>    0.020</td> <td>    0.020</td>\n",
       "</tr>\n",
       "<tr>\n",
       "  <th>x18</th>   <td>   -0.0189</td> <td> 6.22e-13</td> <td>-3.04e+10</td> <td> 0.000</td> <td>   -0.019</td> <td>   -0.019</td>\n",
       "</tr>\n",
       "<tr>\n",
       "  <th>x19</th>   <td>    0.0156</td> <td> 4.02e-13</td> <td> 3.89e+10</td> <td> 0.000</td> <td>    0.016</td> <td>    0.016</td>\n",
       "</tr>\n",
       "<tr>\n",
       "  <th>x20</th>   <td>   -0.0150</td> <td> 3.97e-13</td> <td>-3.77e+10</td> <td> 0.000</td> <td>   -0.015</td> <td>   -0.015</td>\n",
       "</tr>\n",
       "<tr>\n",
       "  <th>x21</th>   <td>   -0.0464</td> <td> 1.19e-12</td> <td>-3.91e+10</td> <td> 0.000</td> <td>   -0.046</td> <td>   -0.046</td>\n",
       "</tr>\n",
       "<tr>\n",
       "  <th>x22</th>   <td>   -0.0227</td> <td> 4.84e-13</td> <td>-4.68e+10</td> <td> 0.000</td> <td>   -0.023</td> <td>   -0.023</td>\n",
       "</tr>\n",
       "<tr>\n",
       "  <th>x23</th>   <td>   -0.0147</td> <td> 1.14e-12</td> <td> -1.3e+10</td> <td> 0.000</td> <td>   -0.015</td> <td>   -0.015</td>\n",
       "</tr>\n",
       "<tr>\n",
       "  <th>x24</th>   <td>   -0.0068</td> <td> 8.06e-13</td> <td>-8.47e+09</td> <td> 0.000</td> <td>   -0.007</td> <td>   -0.007</td>\n",
       "</tr>\n",
       "<tr>\n",
       "  <th>x25</th>   <td>    0.0011</td> <td> 1.14e-12</td> <td> 9.44e+08</td> <td> 0.000</td> <td>    0.001</td> <td>    0.001</td>\n",
       "</tr>\n",
       "<tr>\n",
       "  <th>x26</th>   <td>    0.0090</td> <td> 1.67e-12</td> <td>  5.4e+09</td> <td> 0.000</td> <td>    0.009</td> <td>    0.009</td>\n",
       "</tr>\n",
       "<tr>\n",
       "  <th>x27</th>   <td>    0.0169</td> <td> 1.87e-12</td> <td> 9.04e+09</td> <td> 0.000</td> <td>    0.017</td> <td>    0.017</td>\n",
       "</tr>\n",
       "<tr>\n",
       "  <th>x28</th>   <td>    0.0248</td> <td> 2.28e-12</td> <td> 1.09e+10</td> <td> 0.000</td> <td>    0.025</td> <td>    0.025</td>\n",
       "</tr>\n",
       "<tr>\n",
       "  <th>x29</th>   <td>    0.0327</td> <td> 8.46e-12</td> <td> 3.87e+09</td> <td> 0.000</td> <td>    0.033</td> <td>    0.033</td>\n",
       "</tr>\n",
       "<tr>\n",
       "  <th>x30</th>   <td>    0.0406</td> <td> 3.04e-12</td> <td> 1.34e+10</td> <td> 0.000</td> <td>    0.041</td> <td>    0.041</td>\n",
       "</tr>\n",
       "<tr>\n",
       "  <th>x31</th>   <td>-1.077e-17</td> <td> 1.69e-20</td> <td> -638.496</td> <td> 0.000</td> <td>-1.08e-17</td> <td>-1.07e-17</td>\n",
       "</tr>\n",
       "<tr>\n",
       "  <th>x32</th>   <td>    0.9921</td> <td> 3.65e-13</td> <td> 2.72e+12</td> <td> 0.000</td> <td>    0.992</td> <td>    0.992</td>\n",
       "</tr>\n",
       "<tr>\n",
       "  <th>x33</th>   <td> 2.596e-13</td> <td> 4.84e-13</td> <td>    0.536</td> <td> 0.592</td> <td> -6.9e-13</td> <td> 1.21e-12</td>\n",
       "</tr>\n",
       "</table>\n",
       "<table class=\"simpletable\">\n",
       "<tr>\n",
       "  <th>Omnibus:</th>       <td>978801.669</td> <th>  Durbin-Watson:     </th>    <td>   0.052</td>    \n",
       "</tr>\n",
       "<tr>\n",
       "  <th>Prob(Omnibus):</th>   <td> 0.000</td>   <th>  Jarque-Bera (JB):  </th> <td>15226961776.574</td>\n",
       "</tr>\n",
       "<tr>\n",
       "  <th>Skew:</th>            <td>12.886</td>   <th>  Prob(JB):          </th>    <td>    0.00</td>    \n",
       "</tr>\n",
       "<tr>\n",
       "  <th>Kurtosis:</th>        <td>832.504</td>  <th>  Cond. No.          </th>    <td>3.71e+17</td>    \n",
       "</tr>\n",
       "</table>"
      ],
      "text/plain": [
       "<class 'statsmodels.iolib.summary.Summary'>\n",
       "\"\"\"\n",
       "                            OLS Regression Results                            \n",
       "==============================================================================\n",
       "Dep. Variable:                      y   R-squared:                       1.000\n",
       "Model:                            OLS   Adj. R-squared:                  1.000\n",
       "Method:                 Least Squares   F-statistic:                 2.378e+25\n",
       "Date:                Sun, 30 Sep 2018   Prob (F-statistic):               0.00\n",
       "Time:                        07:14:16   Log-Likelihood:             1.1350e+07\n",
       "No. Observations:              530602   AIC:                        -2.270e+07\n",
       "Df Residuals:                  530588   BIC:                        -2.270e+07\n",
       "Df Model:                          13                                         \n",
       "Covariance Type:            nonrobust                                         \n",
       "==============================================================================\n",
       "                 coef    std err          t      P>|t|      [0.025      0.975]\n",
       "------------------------------------------------------------------------------\n",
       "const          0.0007   4.91e-14   1.34e+10      0.000       0.001       0.001\n",
       "x1             0.0007   4.91e-14   1.34e+10      0.000       0.001       0.001\n",
       "x2             0.0007   4.91e-14   1.34e+10      0.000       0.001       0.001\n",
       "x3             0.0007   4.91e-14   1.34e+10      0.000       0.001       0.001\n",
       "x4             0.0007   4.91e-14   1.34e+10      0.000       0.001       0.001\n",
       "x5             0.0007   4.91e-14   1.34e+10      0.000       0.001       0.001\n",
       "x6             0.0007   4.91e-14   1.34e+10      0.000       0.001       0.001\n",
       "x7             0.0007   4.91e-14   1.34e+10      0.000       0.001       0.001\n",
       "x8             0.0007   4.91e-14   1.34e+10      0.000       0.001       0.001\n",
       "x9             0.0007   4.91e-14   1.34e+10      0.000       0.001       0.001\n",
       "x10            0.0007   4.91e-14   1.34e+10      0.000       0.001       0.001\n",
       "x11            0.0007   4.91e-14   1.34e+10      0.000       0.001       0.001\n",
       "x12            0.0007   4.91e-14   1.34e+10      0.000       0.001       0.001\n",
       "x13            0.0007   4.91e-14   1.34e+10      0.000       0.001       0.001\n",
       "x14            0.0007   4.91e-14   1.34e+10      0.000       0.001       0.001\n",
       "x15            0.0007   4.91e-14   1.34e+10      0.000       0.001       0.001\n",
       "x16            0.0007   4.91e-14   1.34e+10      0.000       0.001       0.001\n",
       "x17            0.0196   6.18e-13   3.16e+10      0.000       0.020       0.020\n",
       "x18           -0.0189   6.22e-13  -3.04e+10      0.000      -0.019      -0.019\n",
       "x19            0.0156   4.02e-13   3.89e+10      0.000       0.016       0.016\n",
       "x20           -0.0150   3.97e-13  -3.77e+10      0.000      -0.015      -0.015\n",
       "x21           -0.0464   1.19e-12  -3.91e+10      0.000      -0.046      -0.046\n",
       "x22           -0.0227   4.84e-13  -4.68e+10      0.000      -0.023      -0.023\n",
       "x23           -0.0147   1.14e-12   -1.3e+10      0.000      -0.015      -0.015\n",
       "x24           -0.0068   8.06e-13  -8.47e+09      0.000      -0.007      -0.007\n",
       "x25            0.0011   1.14e-12   9.44e+08      0.000       0.001       0.001\n",
       "x26            0.0090   1.67e-12    5.4e+09      0.000       0.009       0.009\n",
       "x27            0.0169   1.87e-12   9.04e+09      0.000       0.017       0.017\n",
       "x28            0.0248   2.28e-12   1.09e+10      0.000       0.025       0.025\n",
       "x29            0.0327   8.46e-12   3.87e+09      0.000       0.033       0.033\n",
       "x30            0.0406   3.04e-12   1.34e+10      0.000       0.041       0.041\n",
       "x31        -1.077e-17   1.69e-20   -638.496      0.000   -1.08e-17   -1.07e-17\n",
       "x32            0.9921   3.65e-13   2.72e+12      0.000       0.992       0.992\n",
       "x33         2.596e-13   4.84e-13      0.536      0.592    -6.9e-13    1.21e-12\n",
       "==============================================================================\n",
       "Omnibus:                   978801.669   Durbin-Watson:                   0.052\n",
       "Prob(Omnibus):                  0.000   Jarque-Bera (JB):      15226961776.574\n",
       "Skew:                          12.886   Prob(JB):                         0.00\n",
       "Kurtosis:                     832.504   Cond. No.                     3.71e+17\n",
       "==============================================================================\n",
       "\n",
       "Warnings:\n",
       "[1] Standard Errors assume that the covariance matrix of the errors is correctly specified.\n",
       "[2] The smallest eigenvalue is 5.08e-16. This might indicate that there are\n",
       "strong multicollinearity problems or that the design matrix is singular.\n",
       "\"\"\""
      ]
     },
     "execution_count": 134,
     "metadata": {},
     "output_type": "execute_result"
    }
   ],
   "source": [
    "regressor_OLS=sm.OLS(endog=yagreement, exog=Xagreement).fit()#ordinary least square\n",
    "regressor_OLS.summary()"
   ]
  },
  {
   "cell_type": "code",
   "execution_count": 135,
   "metadata": {},
   "outputs": [
    {
     "data": {
      "text/html": [
       "<table class=\"simpletable\">\n",
       "<caption>OLS Regression Results</caption>\n",
       "<tr>\n",
       "  <th>Dep. Variable:</th>            <td>y</td>        <th>  R-squared:         </th>  <td>   0.710</td>  \n",
       "</tr>\n",
       "<tr>\n",
       "  <th>Model:</th>                   <td>OLS</td>       <th>  Adj. R-squared:    </th>  <td>   0.710</td>  \n",
       "</tr>\n",
       "<tr>\n",
       "  <th>Method:</th>             <td>Least Squares</td>  <th>  F-statistic:       </th>  <td>9.995e+04</td> \n",
       "</tr>\n",
       "<tr>\n",
       "  <th>Date:</th>             <td>Sun, 30 Sep 2018</td> <th>  Prob (F-statistic):</th>   <td>  0.00</td>   \n",
       "</tr>\n",
       "<tr>\n",
       "  <th>Time:</th>                 <td>07:14:18</td>     <th>  Log-Likelihood:    </th> <td>-5.8766e+05</td>\n",
       "</tr>\n",
       "<tr>\n",
       "  <th>No. Observations:</th>      <td>530602</td>      <th>  AIC:               </th>  <td>1.175e+06</td> \n",
       "</tr>\n",
       "<tr>\n",
       "  <th>Df Residuals:</th>          <td>530588</td>      <th>  BIC:               </th>  <td>1.176e+06</td> \n",
       "</tr>\n",
       "<tr>\n",
       "  <th>Df Model:</th>              <td>    13</td>      <th>                     </th>      <td> </td>     \n",
       "</tr>\n",
       "<tr>\n",
       "  <th>Covariance Type:</th>      <td>nonrobust</td>    <th>                     </th>      <td> </td>     \n",
       "</tr>\n",
       "</table>\n",
       "<table class=\"simpletable\">\n",
       "<tr>\n",
       "    <td></td>       <th>coef</th>     <th>std err</th>      <th>t</th>      <th>P>|t|</th>  <th>[0.025</th>    <th>0.975]</th>  \n",
       "</tr>\n",
       "<tr>\n",
       "  <th>const</th> <td>    0.1300</td> <td>    0.000</td> <td>  416.253</td> <td> 0.000</td> <td>    0.129</td> <td>    0.131</td>\n",
       "</tr>\n",
       "<tr>\n",
       "  <th>x1</th>    <td>    0.1300</td> <td>    0.000</td> <td>  416.253</td> <td> 0.000</td> <td>    0.129</td> <td>    0.131</td>\n",
       "</tr>\n",
       "<tr>\n",
       "  <th>x2</th>    <td>    0.1300</td> <td>    0.000</td> <td>  416.253</td> <td> 0.000</td> <td>    0.129</td> <td>    0.131</td>\n",
       "</tr>\n",
       "<tr>\n",
       "  <th>x3</th>    <td>    0.1300</td> <td>    0.000</td> <td>  416.253</td> <td> 0.000</td> <td>    0.129</td> <td>    0.131</td>\n",
       "</tr>\n",
       "<tr>\n",
       "  <th>x4</th>    <td>    0.1300</td> <td>    0.000</td> <td>  416.253</td> <td> 0.000</td> <td>    0.129</td> <td>    0.131</td>\n",
       "</tr>\n",
       "<tr>\n",
       "  <th>x5</th>    <td>    0.1300</td> <td>    0.000</td> <td>  416.253</td> <td> 0.000</td> <td>    0.129</td> <td>    0.131</td>\n",
       "</tr>\n",
       "<tr>\n",
       "  <th>x6</th>    <td>    0.1300</td> <td>    0.000</td> <td>  416.253</td> <td> 0.000</td> <td>    0.129</td> <td>    0.131</td>\n",
       "</tr>\n",
       "<tr>\n",
       "  <th>x7</th>    <td>    0.1300</td> <td>    0.000</td> <td>  416.253</td> <td> 0.000</td> <td>    0.129</td> <td>    0.131</td>\n",
       "</tr>\n",
       "<tr>\n",
       "  <th>x8</th>    <td>    0.1300</td> <td>    0.000</td> <td>  416.253</td> <td> 0.000</td> <td>    0.129</td> <td>    0.131</td>\n",
       "</tr>\n",
       "<tr>\n",
       "  <th>x9</th>    <td>    0.1300</td> <td>    0.000</td> <td>  416.253</td> <td> 0.000</td> <td>    0.129</td> <td>    0.131</td>\n",
       "</tr>\n",
       "<tr>\n",
       "  <th>x10</th>   <td>    0.1300</td> <td>    0.000</td> <td>  416.253</td> <td> 0.000</td> <td>    0.129</td> <td>    0.131</td>\n",
       "</tr>\n",
       "<tr>\n",
       "  <th>x11</th>   <td>    0.1300</td> <td>    0.000</td> <td>  416.253</td> <td> 0.000</td> <td>    0.129</td> <td>    0.131</td>\n",
       "</tr>\n",
       "<tr>\n",
       "  <th>x12</th>   <td>    0.1300</td> <td>    0.000</td> <td>  416.253</td> <td> 0.000</td> <td>    0.129</td> <td>    0.131</td>\n",
       "</tr>\n",
       "<tr>\n",
       "  <th>x13</th>   <td>    0.1300</td> <td>    0.000</td> <td>  416.253</td> <td> 0.000</td> <td>    0.129</td> <td>    0.131</td>\n",
       "</tr>\n",
       "<tr>\n",
       "  <th>x14</th>   <td>    0.1300</td> <td>    0.000</td> <td>  416.253</td> <td> 0.000</td> <td>    0.129</td> <td>    0.131</td>\n",
       "</tr>\n",
       "<tr>\n",
       "  <th>x15</th>   <td>    0.1300</td> <td>    0.000</td> <td>  416.253</td> <td> 0.000</td> <td>    0.129</td> <td>    0.131</td>\n",
       "</tr>\n",
       "<tr>\n",
       "  <th>x16</th>   <td>    0.1300</td> <td>    0.000</td> <td>  416.253</td> <td> 0.000</td> <td>    0.129</td> <td>    0.131</td>\n",
       "</tr>\n",
       "<tr>\n",
       "  <th>x17</th>   <td>    0.1300</td> <td>    0.000</td> <td>  416.253</td> <td> 0.000</td> <td>    0.129</td> <td>    0.131</td>\n",
       "</tr>\n",
       "<tr>\n",
       "  <th>x18</th>   <td>   -2.1000</td> <td>    0.002</td> <td> -897.016</td> <td> 0.000</td> <td>   -2.105</td> <td>   -2.095</td>\n",
       "</tr>\n",
       "<tr>\n",
       "  <th>x19</th>   <td>    2.2300</td> <td>    0.002</td> <td>  966.032</td> <td> 0.000</td> <td>    2.225</td> <td>    2.235</td>\n",
       "</tr>\n",
       "<tr>\n",
       "  <th>x20</th>   <td>    0.3990</td> <td>    0.002</td> <td>  250.806</td> <td> 0.000</td> <td>    0.396</td> <td>    0.402</td>\n",
       "</tr>\n",
       "<tr>\n",
       "  <th>x21</th>   <td>   -0.2690</td> <td>    0.002</td> <td> -163.299</td> <td> 0.000</td> <td>   -0.272</td> <td>   -0.266</td>\n",
       "</tr>\n",
       "<tr>\n",
       "  <th>x22</th>   <td>   -0.6380</td> <td>    0.007</td> <td>  -96.783</td> <td> 0.000</td> <td>   -0.651</td> <td>   -0.625</td>\n",
       "</tr>\n",
       "<tr>\n",
       "  <th>x23</th>   <td>   -0.5627</td> <td>    0.006</td> <td>  -88.673</td> <td> 0.000</td> <td>   -0.575</td> <td>   -0.550</td>\n",
       "</tr>\n",
       "<tr>\n",
       "  <th>x24</th>   <td>    0.0086</td> <td>    0.007</td> <td>    1.253</td> <td> 0.210</td> <td>   -0.005</td> <td>    0.022</td>\n",
       "</tr>\n",
       "<tr>\n",
       "  <th>x25</th>   <td>   -0.0127</td> <td>    0.005</td> <td>   -2.527</td> <td> 0.012</td> <td>   -0.022</td> <td>   -0.003</td>\n",
       "</tr>\n",
       "<tr>\n",
       "  <th>x26</th>   <td>   -0.0136</td> <td>    0.007</td> <td>   -1.961</td> <td> 0.050</td> <td>   -0.027</td> <td>-7.49e-06</td>\n",
       "</tr>\n",
       "<tr>\n",
       "  <th>x27</th>   <td>   -0.7500</td> <td>    0.010</td> <td>  -75.589</td> <td> 0.000</td> <td>   -0.769</td> <td>   -0.731</td>\n",
       "</tr>\n",
       "<tr>\n",
       "  <th>x28</th>   <td>   -0.4683</td> <td>    0.011</td> <td>  -42.314</td> <td> 0.000</td> <td>   -0.490</td> <td>   -0.447</td>\n",
       "</tr>\n",
       "<tr>\n",
       "  <th>x29</th>   <td>   -0.7821</td> <td>    0.013</td> <td>  -58.156</td> <td> 0.000</td> <td>   -0.808</td> <td>   -0.756</td>\n",
       "</tr>\n",
       "<tr>\n",
       "  <th>x30</th>   <td>    2.2020</td> <td>    0.050</td> <td>   43.965</td> <td> 0.000</td> <td>    2.104</td> <td>    2.300</td>\n",
       "</tr>\n",
       "<tr>\n",
       "  <th>x31</th>   <td>   -0.8142</td> <td>    0.018</td> <td>  -45.799</td> <td> 0.000</td> <td>   -0.849</td> <td>   -0.779</td>\n",
       "</tr>\n",
       "<tr>\n",
       "  <th>x32</th>   <td>    0.0080</td> <td>    0.001</td> <td>    7.664</td> <td> 0.000</td> <td>    0.006</td> <td>    0.010</td>\n",
       "</tr>\n",
       "<tr>\n",
       "  <th>x33</th>   <td> 9.775e-11</td> <td> 9.96e-11</td> <td>    0.982</td> <td> 0.326</td> <td>-9.74e-11</td> <td> 2.93e-10</td>\n",
       "</tr>\n",
       "<tr>\n",
       "  <th>x34</th>   <td>    0.0080</td> <td>    0.001</td> <td>    7.664</td> <td> 0.000</td> <td>    0.006</td> <td>    0.010</td>\n",
       "</tr>\n",
       "<tr>\n",
       "  <th>x35</th>   <td>   -0.0040</td> <td>    0.003</td> <td>   -1.381</td> <td> 0.167</td> <td>   -0.010</td> <td>    0.002</td>\n",
       "</tr>\n",
       "</table>\n",
       "<table class=\"simpletable\">\n",
       "<tr>\n",
       "  <th>Omnibus:</th>       <td>253030.251</td> <th>  Durbin-Watson:     </th>  <td>   0.304</td>  \n",
       "</tr>\n",
       "<tr>\n",
       "  <th>Prob(Omnibus):</th>   <td> 0.000</td>   <th>  Jarque-Bera (JB):  </th> <td>1374738.586</td>\n",
       "</tr>\n",
       "<tr>\n",
       "  <th>Skew:</th>            <td> 2.314</td>   <th>  Prob(JB):          </th>  <td>    0.00</td>  \n",
       "</tr>\n",
       "<tr>\n",
       "  <th>Kurtosis:</th>        <td> 9.385</td>   <th>  Cond. No.          </th>  <td>1.94e+17</td>  \n",
       "</tr>\n",
       "</table>"
      ],
      "text/plain": [
       "<class 'statsmodels.iolib.summary.Summary'>\n",
       "\"\"\"\n",
       "                            OLS Regression Results                            \n",
       "==============================================================================\n",
       "Dep. Variable:                      y   R-squared:                       0.710\n",
       "Model:                            OLS   Adj. R-squared:                  0.710\n",
       "Method:                 Least Squares   F-statistic:                 9.995e+04\n",
       "Date:                Sun, 30 Sep 2018   Prob (F-statistic):               0.00\n",
       "Time:                        07:14:18   Log-Likelihood:            -5.8766e+05\n",
       "No. Observations:              530602   AIC:                         1.175e+06\n",
       "Df Residuals:                  530588   BIC:                         1.176e+06\n",
       "Df Model:                          13                                         \n",
       "Covariance Type:            nonrobust                                         \n",
       "==============================================================================\n",
       "                 coef    std err          t      P>|t|      [0.025      0.975]\n",
       "------------------------------------------------------------------------------\n",
       "const          0.1300      0.000    416.253      0.000       0.129       0.131\n",
       "x1             0.1300      0.000    416.253      0.000       0.129       0.131\n",
       "x2             0.1300      0.000    416.253      0.000       0.129       0.131\n",
       "x3             0.1300      0.000    416.253      0.000       0.129       0.131\n",
       "x4             0.1300      0.000    416.253      0.000       0.129       0.131\n",
       "x5             0.1300      0.000    416.253      0.000       0.129       0.131\n",
       "x6             0.1300      0.000    416.253      0.000       0.129       0.131\n",
       "x7             0.1300      0.000    416.253      0.000       0.129       0.131\n",
       "x8             0.1300      0.000    416.253      0.000       0.129       0.131\n",
       "x9             0.1300      0.000    416.253      0.000       0.129       0.131\n",
       "x10            0.1300      0.000    416.253      0.000       0.129       0.131\n",
       "x11            0.1300      0.000    416.253      0.000       0.129       0.131\n",
       "x12            0.1300      0.000    416.253      0.000       0.129       0.131\n",
       "x13            0.1300      0.000    416.253      0.000       0.129       0.131\n",
       "x14            0.1300      0.000    416.253      0.000       0.129       0.131\n",
       "x15            0.1300      0.000    416.253      0.000       0.129       0.131\n",
       "x16            0.1300      0.000    416.253      0.000       0.129       0.131\n",
       "x17            0.1300      0.000    416.253      0.000       0.129       0.131\n",
       "x18           -2.1000      0.002   -897.016      0.000      -2.105      -2.095\n",
       "x19            2.2300      0.002    966.032      0.000       2.225       2.235\n",
       "x20            0.3990      0.002    250.806      0.000       0.396       0.402\n",
       "x21           -0.2690      0.002   -163.299      0.000      -0.272      -0.266\n",
       "x22           -0.6380      0.007    -96.783      0.000      -0.651      -0.625\n",
       "x23           -0.5627      0.006    -88.673      0.000      -0.575      -0.550\n",
       "x24            0.0086      0.007      1.253      0.210      -0.005       0.022\n",
       "x25           -0.0127      0.005     -2.527      0.012      -0.022      -0.003\n",
       "x26           -0.0136      0.007     -1.961      0.050      -0.027   -7.49e-06\n",
       "x27           -0.7500      0.010    -75.589      0.000      -0.769      -0.731\n",
       "x28           -0.4683      0.011    -42.314      0.000      -0.490      -0.447\n",
       "x29           -0.7821      0.013    -58.156      0.000      -0.808      -0.756\n",
       "x30            2.2020      0.050     43.965      0.000       2.104       2.300\n",
       "x31           -0.8142      0.018    -45.799      0.000      -0.849      -0.779\n",
       "x32            0.0080      0.001      7.664      0.000       0.006       0.010\n",
       "x33         9.775e-11   9.96e-11      0.982      0.326   -9.74e-11    2.93e-10\n",
       "x34            0.0080      0.001      7.664      0.000       0.006       0.010\n",
       "x35           -0.0040      0.003     -1.381      0.167      -0.010       0.002\n",
       "==============================================================================\n",
       "Omnibus:                   253030.251   Durbin-Watson:                   0.304\n",
       "Prob(Omnibus):                  0.000   Jarque-Bera (JB):          1374738.586\n",
       "Skew:                           2.314   Prob(JB):                         0.00\n",
       "Kurtosis:                       9.385   Cond. No.                     1.94e+17\n",
       "==============================================================================\n",
       "\n",
       "Warnings:\n",
       "[1] Standard Errors assume that the covariance matrix of the errors is correctly specified.\n",
       "[2] The smallest eigenvalue is 1.86e-15. This might indicate that there are\n",
       "strong multicollinearity problems or that the design matrix is singular.\n",
       "\"\"\""
      ]
     },
     "execution_count": 135,
     "metadata": {},
     "output_type": "execute_result"
    }
   ],
   "source": [
    "regressor_OLS=sm.OLS(endog=yreturn, exog=Xreturn).fit()#ordinary least square\n",
    "regressor_OLS.summary()"
   ]
  },
  {
   "cell_type": "markdown",
   "metadata": {},
   "source": [
    "## Polynomial regression"
   ]
  },
  {
   "cell_type": "code",
   "execution_count": 184,
   "metadata": {},
   "outputs": [
    {
     "data": {
      "text/plain": [
       "array([[  1.00000000e+00,   1.00000000e+00,   1.00000000e+00, ...,\n",
       "          3.10807556e+14,   2.19178194e+20,   1.54562139e+26],\n",
       "       [  1.00000000e+00,   1.00000000e+00,   1.00000000e+00, ...,\n",
       "          1.50430857e+15,   4.82192027e+20,   1.54562139e+26],\n",
       "       [  1.00000000e+00,   1.00000000e+00,   1.00000000e+00, ...,\n",
       "          1.50430857e+15,   4.82192027e+20,   1.54562139e+26],\n",
       "       ..., \n",
       "       [  1.00000000e+00,   1.00000000e+00,   1.00000000e+00, ...,\n",
       "          1.41196943e+16,   1.67779132e+22,   1.99365768e+28],\n",
       "       [  1.00000000e+00,   1.00000000e+00,   1.00000000e+00, ...,\n",
       "          1.56529875e+14,   1.95837501e+19,   2.45016018e+24],\n",
       "       [  1.00000000e+00,   1.00000000e+00,   1.00000000e+00, ...,\n",
       "          0.00000000e+00,   0.00000000e+00,   0.00000000e+00]])"
      ]
     },
     "execution_count": 184,
     "metadata": {},
     "output_type": "execute_result"
    }
   ],
   "source": [
    "from sklearn.preprocessing import PolynomialFeatures\n",
    "poly_reg=PolynomialFeatures(degree = 4)\n",
    "Xpatent_poly= poly_reg.fit_transform(Xpatent) # do not have test set and train set split\n",
    "Xpatent_poly\n",
    "\n",
    "Xagreement_poly= poly_reg.fit_transform(Xagreement) # do not have test set and train set split\n",
    "Xagreement_poly\n",
    "\n",
    "Xreturn_poly= poly_reg.fit_transform(Xreturn) # do not have test set and train set split\n",
    "Xreturn_poly"
   ]
  },
  {
   "cell_type": "code",
   "execution_count": 190,
   "metadata": {},
   "outputs": [
    {
     "ename": "LinAlgError",
     "evalue": "Singular matrix",
     "output_type": "error",
     "traceback": [
      "\u001b[1;31m---------------------------------------------------------------------------\u001b[0m",
      "\u001b[1;31mLinAlgError\u001b[0m                               Traceback (most recent call last)",
      "\u001b[1;32m<ipython-input-190-7f32712ef336>\u001b[0m in \u001b[0;36m<module>\u001b[1;34m()\u001b[0m\n\u001b[0;32m      1\u001b[0m \u001b[0mlin_reg_2\u001b[0m \u001b[1;33m=\u001b[0m \u001b[0mLinearRegression\u001b[0m\u001b[1;33m(\u001b[0m\u001b[1;33m)\u001b[0m\u001b[1;33m\u001b[0m\u001b[0m\n\u001b[0;32m      2\u001b[0m \u001b[1;33m\u001b[0m\u001b[0m\n\u001b[1;32m----> 3\u001b[1;33m \u001b[0mlin_reg_2_model\u001b[0m \u001b[1;33m=\u001b[0m \u001b[0mlin_reg_2\u001b[0m\u001b[1;33m.\u001b[0m\u001b[0mfit\u001b[0m\u001b[1;33m(\u001b[0m\u001b[0mXpatent_poly\u001b[0m\u001b[1;33m,\u001b[0m\u001b[0mypatent\u001b[0m\u001b[1;33m)\u001b[0m\u001b[1;33m\u001b[0m\u001b[0m\n\u001b[0m\u001b[0;32m      4\u001b[0m \u001b[0mlin_reg_2_model\u001b[0m\u001b[1;33m.\u001b[0m\u001b[0msummary\u001b[0m\u001b[1;33m(\u001b[0m\u001b[1;33m)\u001b[0m\u001b[1;33m\u001b[0m\u001b[0m\n",
      "\u001b[1;32m<ipython-input-189-8fd3481ec419>\u001b[0m in \u001b[0;36mfit\u001b[1;34m(self, X, y, n_jobs)\u001b[0m\n\u001b[0;32m     23\u001b[0m         se = np.array([\n\u001b[0;32m     24\u001b[0m             \u001b[0mnp\u001b[0m\u001b[1;33m.\u001b[0m\u001b[0msqrt\u001b[0m\u001b[1;33m(\u001b[0m\u001b[0mnp\u001b[0m\u001b[1;33m.\u001b[0m\u001b[0mdiagonal\u001b[0m\u001b[1;33m(\u001b[0m\u001b[0msse\u001b[0m\u001b[1;33m[\u001b[0m\u001b[0mi\u001b[0m\u001b[1;33m]\u001b[0m \u001b[1;33m*\u001b[0m \u001b[0mnp\u001b[0m\u001b[1;33m.\u001b[0m\u001b[0mlinalg\u001b[0m\u001b[1;33m.\u001b[0m\u001b[0minv\u001b[0m\u001b[1;33m(\u001b[0m\u001b[0mnp\u001b[0m\u001b[1;33m.\u001b[0m\u001b[0mdot\u001b[0m\u001b[1;33m(\u001b[0m\u001b[0mX\u001b[0m\u001b[1;33m.\u001b[0m\u001b[0mT\u001b[0m\u001b[1;33m,\u001b[0m \u001b[0mX\u001b[0m\u001b[1;33m)\u001b[0m\u001b[1;33m)\u001b[0m\u001b[1;33m)\u001b[0m\u001b[1;33m)\u001b[0m\u001b[1;33m\u001b[0m\u001b[0m\n\u001b[1;32m---> 25\u001b[1;33m                                                     \u001b[1;32mfor\u001b[0m \u001b[0mi\u001b[0m \u001b[1;32min\u001b[0m \u001b[0mrange\u001b[0m\u001b[1;33m(\u001b[0m\u001b[0msse\u001b[0m\u001b[1;33m.\u001b[0m\u001b[0mshape\u001b[0m\u001b[1;33m[\u001b[0m\u001b[1;36m0\u001b[0m\u001b[1;33m]\u001b[0m\u001b[1;33m)\u001b[0m\u001b[1;33m\u001b[0m\u001b[0m\n\u001b[0m\u001b[0;32m     26\u001b[0m                     ])\n\u001b[0;32m     27\u001b[0m \u001b[1;33m\u001b[0m\u001b[0m\n",
      "\u001b[1;32m<ipython-input-189-8fd3481ec419>\u001b[0m in \u001b[0;36m<listcomp>\u001b[1;34m(.0)\u001b[0m\n\u001b[0;32m     23\u001b[0m         se = np.array([\n\u001b[0;32m     24\u001b[0m             \u001b[0mnp\u001b[0m\u001b[1;33m.\u001b[0m\u001b[0msqrt\u001b[0m\u001b[1;33m(\u001b[0m\u001b[0mnp\u001b[0m\u001b[1;33m.\u001b[0m\u001b[0mdiagonal\u001b[0m\u001b[1;33m(\u001b[0m\u001b[0msse\u001b[0m\u001b[1;33m[\u001b[0m\u001b[0mi\u001b[0m\u001b[1;33m]\u001b[0m \u001b[1;33m*\u001b[0m \u001b[0mnp\u001b[0m\u001b[1;33m.\u001b[0m\u001b[0mlinalg\u001b[0m\u001b[1;33m.\u001b[0m\u001b[0minv\u001b[0m\u001b[1;33m(\u001b[0m\u001b[0mnp\u001b[0m\u001b[1;33m.\u001b[0m\u001b[0mdot\u001b[0m\u001b[1;33m(\u001b[0m\u001b[0mX\u001b[0m\u001b[1;33m.\u001b[0m\u001b[0mT\u001b[0m\u001b[1;33m,\u001b[0m \u001b[0mX\u001b[0m\u001b[1;33m)\u001b[0m\u001b[1;33m)\u001b[0m\u001b[1;33m)\u001b[0m\u001b[1;33m)\u001b[0m\u001b[1;33m\u001b[0m\u001b[0m\n\u001b[1;32m---> 25\u001b[1;33m                                                     \u001b[1;32mfor\u001b[0m \u001b[0mi\u001b[0m \u001b[1;32min\u001b[0m \u001b[0mrange\u001b[0m\u001b[1;33m(\u001b[0m\u001b[0msse\u001b[0m\u001b[1;33m.\u001b[0m\u001b[0mshape\u001b[0m\u001b[1;33m[\u001b[0m\u001b[1;36m0\u001b[0m\u001b[1;33m]\u001b[0m\u001b[1;33m)\u001b[0m\u001b[1;33m\u001b[0m\u001b[0m\n\u001b[0m\u001b[0;32m     26\u001b[0m                     ])\n\u001b[0;32m     27\u001b[0m \u001b[1;33m\u001b[0m\u001b[0m\n",
      "\u001b[1;32m~\\Anaconda\\lib\\site-packages\\numpy\\linalg\\linalg.py\u001b[0m in \u001b[0;36minv\u001b[1;34m(a)\u001b[0m\n\u001b[0;32m    511\u001b[0m     \u001b[0msignature\u001b[0m \u001b[1;33m=\u001b[0m \u001b[1;34m'D->D'\u001b[0m \u001b[1;32mif\u001b[0m \u001b[0misComplexType\u001b[0m\u001b[1;33m(\u001b[0m\u001b[0mt\u001b[0m\u001b[1;33m)\u001b[0m \u001b[1;32melse\u001b[0m \u001b[1;34m'd->d'\u001b[0m\u001b[1;33m\u001b[0m\u001b[0m\n\u001b[0;32m    512\u001b[0m     \u001b[0mextobj\u001b[0m \u001b[1;33m=\u001b[0m \u001b[0mget_linalg_error_extobj\u001b[0m\u001b[1;33m(\u001b[0m\u001b[0m_raise_linalgerror_singular\u001b[0m\u001b[1;33m)\u001b[0m\u001b[1;33m\u001b[0m\u001b[0m\n\u001b[1;32m--> 513\u001b[1;33m     \u001b[0mainv\u001b[0m \u001b[1;33m=\u001b[0m \u001b[0m_umath_linalg\u001b[0m\u001b[1;33m.\u001b[0m\u001b[0minv\u001b[0m\u001b[1;33m(\u001b[0m\u001b[0ma\u001b[0m\u001b[1;33m,\u001b[0m \u001b[0msignature\u001b[0m\u001b[1;33m=\u001b[0m\u001b[0msignature\u001b[0m\u001b[1;33m,\u001b[0m \u001b[0mextobj\u001b[0m\u001b[1;33m=\u001b[0m\u001b[0mextobj\u001b[0m\u001b[1;33m)\u001b[0m\u001b[1;33m\u001b[0m\u001b[0m\n\u001b[0m\u001b[0;32m    514\u001b[0m     \u001b[1;32mreturn\u001b[0m \u001b[0mwrap\u001b[0m\u001b[1;33m(\u001b[0m\u001b[0mainv\u001b[0m\u001b[1;33m.\u001b[0m\u001b[0mastype\u001b[0m\u001b[1;33m(\u001b[0m\u001b[0mresult_t\u001b[0m\u001b[1;33m,\u001b[0m \u001b[0mcopy\u001b[0m\u001b[1;33m=\u001b[0m\u001b[1;32mFalse\u001b[0m\u001b[1;33m)\u001b[0m\u001b[1;33m)\u001b[0m\u001b[1;33m\u001b[0m\u001b[0m\n\u001b[0;32m    515\u001b[0m \u001b[1;33m\u001b[0m\u001b[0m\n",
      "\u001b[1;32m~\\Anaconda\\lib\\site-packages\\numpy\\linalg\\linalg.py\u001b[0m in \u001b[0;36m_raise_linalgerror_singular\u001b[1;34m(err, flag)\u001b[0m\n\u001b[0;32m     88\u001b[0m \u001b[1;33m\u001b[0m\u001b[0m\n\u001b[0;32m     89\u001b[0m \u001b[1;32mdef\u001b[0m \u001b[0m_raise_linalgerror_singular\u001b[0m\u001b[1;33m(\u001b[0m\u001b[0merr\u001b[0m\u001b[1;33m,\u001b[0m \u001b[0mflag\u001b[0m\u001b[1;33m)\u001b[0m\u001b[1;33m:\u001b[0m\u001b[1;33m\u001b[0m\u001b[0m\n\u001b[1;32m---> 90\u001b[1;33m     \u001b[1;32mraise\u001b[0m \u001b[0mLinAlgError\u001b[0m\u001b[1;33m(\u001b[0m\u001b[1;34m\"Singular matrix\"\u001b[0m\u001b[1;33m)\u001b[0m\u001b[1;33m\u001b[0m\u001b[0m\n\u001b[0m\u001b[0;32m     91\u001b[0m \u001b[1;33m\u001b[0m\u001b[0m\n\u001b[0;32m     92\u001b[0m \u001b[1;32mdef\u001b[0m \u001b[0m_raise_linalgerror_nonposdef\u001b[0m\u001b[1;33m(\u001b[0m\u001b[0merr\u001b[0m\u001b[1;33m,\u001b[0m \u001b[0mflag\u001b[0m\u001b[1;33m)\u001b[0m\u001b[1;33m:\u001b[0m\u001b[1;33m\u001b[0m\u001b[0m\n",
      "\u001b[1;31mLinAlgError\u001b[0m: Singular matrix"
     ]
    }
   ],
   "source": [
    "lin_reg_2 = LinearRegression()\n",
    "\n",
    "lin_reg_2_model = lin_reg_2.fit(Xpatent_poly,ypatent)\n",
    "lin_reg_2_model.summary()"
   ]
  },
  {
   "cell_type": "code",
   "execution_count": null,
   "metadata": {
    "collapsed": true
   },
   "outputs": [],
   "source": [
    "lin_reg_2_model = lin_reg_2.fit(Xagreement_poly,yagreement)\n",
    "lin_reg_2_model.summary()"
   ]
  },
  {
   "cell_type": "code",
   "execution_count": null,
   "metadata": {
    "collapsed": true
   },
   "outputs": [],
   "source": [
    "lin_reg_2_model = lin_reg_2.fit(Xreturn_poly,yreturn)\n",
    "lin_reg_2_model.summary()"
   ]
  },
  {
   "cell_type": "markdown",
   "metadata": {},
   "source": [
    "## SVR"
   ]
  },
  {
   "cell_type": "code",
   "execution_count": 191,
   "metadata": {},
   "outputs": [
    {
     "name": "stderr",
     "output_type": "stream",
     "text": [
      "C:\\Users\\basja\\Anaconda\\lib\\site-packages\\sklearn\\utils\\validation.py:475: DataConversionWarning: Data with input dtype int64 was converted to float64 by StandardScaler.\n",
      "  warnings.warn(msg, DataConversionWarning)\n"
     ]
    }
   ],
   "source": [
    "# for SVR, should do the scaling\n",
    "from sklearn.preprocessing import StandardScaler\n",
    "sc_X=StandardScaler()\n",
    "sc_y=StandardScaler()\n",
    "\n",
    "#Does x need to be appended?\n",
    "Xpatent=sc_X.fit_transform(Xpatent)\n",
    "ypatent=sc_y.fit_transform(ypatent)\n",
    "Xagreement=sc_X.fit_transform(Xagreement)\n",
    "yagreement=sc_y.fit_transform(yagreement)\n",
    "Xreturn=sc_X.fit_transform(Xreturn)\n",
    "yreturn=sc_y.fit_transform(yreturn)\n"
   ]
  },
  {
   "cell_type": "code",
   "execution_count": null,
   "metadata": {
    "scrolled": true
   },
   "outputs": [
    {
     "name": "stderr",
     "output_type": "stream",
     "text": [
      "C:\\Users\\basja\\Anaconda\\lib\\site-packages\\sklearn\\utils\\validation.py:578: DataConversionWarning: A column-vector y was passed when a 1d array was expected. Please change the shape of y to (n_samples, ), for example using ravel().\n",
      "  y = column_or_1d(y, warn=True)\n"
     ]
    }
   ],
   "source": [
    "#Fitting SVR to the dataset\n",
    "from sklearn.svm import SVR\n",
    "regressor=SVR(kernel='rbf')\n",
    "regressor.fit(Xpatent,ypatent)\n"
   ]
  },
  {
   "cell_type": "code",
   "execution_count": null,
   "metadata": {
    "collapsed": true
   },
   "outputs": [],
   "source": [
    "regressor.fit(Xagreement,yagreement)"
   ]
  },
  {
   "cell_type": "code",
   "execution_count": null,
   "metadata": {
    "collapsed": true
   },
   "outputs": [],
   "source": [
    "regressor.fit(Xreturn, yreturn)"
   ]
  },
  {
   "cell_type": "code",
   "execution_count": 55,
   "metadata": {},
   "outputs": [
    {
     "data": {
      "text/plain": [
       "array([170387.73289107])"
      ]
     },
     "execution_count": 55,
     "metadata": {},
     "output_type": "execute_result"
    }
   ],
   "source": [
    "ypatent_pred=sc_y.inverse_transform(regressor.predict(sc_X.transform(np.array([[Xpatent]]))))\n",
    "ypatent_pred"
   ]
  },
  {
   "cell_type": "code",
   "execution_count": null,
   "metadata": {
    "collapsed": true
   },
   "outputs": [],
   "source": [
    "yagreement_pred=sc_y.inverse_transform(regressor.predict(sc_X.transform(np.array([[Xagreement]]))))\n",
    "yagreement_pred"
   ]
  },
  {
   "cell_type": "code",
   "execution_count": null,
   "metadata": {
    "collapsed": true
   },
   "outputs": [],
   "source": [
    "yreturn_pred=sc_y.inverse_transform(regressor.predict(sc_X.transform(np.array([[Xreturn]]))))\n",
    "yreturn_pred"
   ]
  },
  {
   "cell_type": "markdown",
   "metadata": {},
   "source": [
    "## Decision Trees"
   ]
  },
  {
   "cell_type": "code",
   "execution_count": 16,
   "metadata": {},
   "outputs": [
    {
     "ename": "ValueError",
     "evalue": "Input contains NaN, infinity or a value too large for dtype('float32').",
     "output_type": "error",
     "traceback": [
      "\u001b[1;31m---------------------------------------------------------------------------\u001b[0m",
      "\u001b[1;31mValueError\u001b[0m                                Traceback (most recent call last)",
      "\u001b[1;32m<ipython-input-16-80b2d29b009c>\u001b[0m in \u001b[0;36m<module>\u001b[1;34m()\u001b[0m\n\u001b[0;32m      2\u001b[0m \u001b[1;32mfrom\u001b[0m \u001b[0msklearn\u001b[0m\u001b[1;33m.\u001b[0m\u001b[0mtree\u001b[0m \u001b[1;32mimport\u001b[0m \u001b[0mDecisionTreeRegressor\u001b[0m\u001b[1;33m\u001b[0m\u001b[0m\n\u001b[0;32m      3\u001b[0m \u001b[0mregressor\u001b[0m \u001b[1;33m=\u001b[0m \u001b[0mDecisionTreeRegressor\u001b[0m\u001b[1;33m(\u001b[0m\u001b[0mrandom_state\u001b[0m\u001b[1;33m=\u001b[0m\u001b[1;36m0\u001b[0m\u001b[1;33m)\u001b[0m\u001b[1;33m\u001b[0m\u001b[0m\n\u001b[1;32m----> 4\u001b[1;33m \u001b[0mregressorpatent\u001b[0m \u001b[1;33m=\u001b[0m \u001b[0mregressor\u001b[0m\u001b[1;33m.\u001b[0m\u001b[0mfit\u001b[0m\u001b[1;33m(\u001b[0m\u001b[0mXpatent\u001b[0m\u001b[1;33m,\u001b[0m\u001b[0mypatent\u001b[0m\u001b[1;33m)\u001b[0m\u001b[1;33m\u001b[0m\u001b[0m\n\u001b[0m",
      "\u001b[1;32m~\\Anaconda\\lib\\site-packages\\sklearn\\tree\\tree.py\u001b[0m in \u001b[0;36mfit\u001b[1;34m(self, X, y, sample_weight, check_input, X_idx_sorted)\u001b[0m\n\u001b[0;32m   1122\u001b[0m             \u001b[0msample_weight\u001b[0m\u001b[1;33m=\u001b[0m\u001b[0msample_weight\u001b[0m\u001b[1;33m,\u001b[0m\u001b[1;33m\u001b[0m\u001b[0m\n\u001b[0;32m   1123\u001b[0m             \u001b[0mcheck_input\u001b[0m\u001b[1;33m=\u001b[0m\u001b[0mcheck_input\u001b[0m\u001b[1;33m,\u001b[0m\u001b[1;33m\u001b[0m\u001b[0m\n\u001b[1;32m-> 1124\u001b[1;33m             X_idx_sorted=X_idx_sorted)\n\u001b[0m\u001b[0;32m   1125\u001b[0m         \u001b[1;32mreturn\u001b[0m \u001b[0mself\u001b[0m\u001b[1;33m\u001b[0m\u001b[0m\n\u001b[0;32m   1126\u001b[0m \u001b[1;33m\u001b[0m\u001b[0m\n",
      "\u001b[1;32m~\\Anaconda\\lib\\site-packages\\sklearn\\tree\\tree.py\u001b[0m in \u001b[0;36mfit\u001b[1;34m(self, X, y, sample_weight, check_input, X_idx_sorted)\u001b[0m\n\u001b[0;32m    114\u001b[0m         \u001b[0mrandom_state\u001b[0m \u001b[1;33m=\u001b[0m \u001b[0mcheck_random_state\u001b[0m\u001b[1;33m(\u001b[0m\u001b[0mself\u001b[0m\u001b[1;33m.\u001b[0m\u001b[0mrandom_state\u001b[0m\u001b[1;33m)\u001b[0m\u001b[1;33m\u001b[0m\u001b[0m\n\u001b[0;32m    115\u001b[0m         \u001b[1;32mif\u001b[0m \u001b[0mcheck_input\u001b[0m\u001b[1;33m:\u001b[0m\u001b[1;33m\u001b[0m\u001b[0m\n\u001b[1;32m--> 116\u001b[1;33m             \u001b[0mX\u001b[0m \u001b[1;33m=\u001b[0m \u001b[0mcheck_array\u001b[0m\u001b[1;33m(\u001b[0m\u001b[0mX\u001b[0m\u001b[1;33m,\u001b[0m \u001b[0mdtype\u001b[0m\u001b[1;33m=\u001b[0m\u001b[0mDTYPE\u001b[0m\u001b[1;33m,\u001b[0m \u001b[0maccept_sparse\u001b[0m\u001b[1;33m=\u001b[0m\u001b[1;34m\"csc\"\u001b[0m\u001b[1;33m)\u001b[0m\u001b[1;33m\u001b[0m\u001b[0m\n\u001b[0m\u001b[0;32m    117\u001b[0m             \u001b[0my\u001b[0m \u001b[1;33m=\u001b[0m \u001b[0mcheck_array\u001b[0m\u001b[1;33m(\u001b[0m\u001b[0my\u001b[0m\u001b[1;33m,\u001b[0m \u001b[0mensure_2d\u001b[0m\u001b[1;33m=\u001b[0m\u001b[1;32mFalse\u001b[0m\u001b[1;33m,\u001b[0m \u001b[0mdtype\u001b[0m\u001b[1;33m=\u001b[0m\u001b[1;32mNone\u001b[0m\u001b[1;33m)\u001b[0m\u001b[1;33m\u001b[0m\u001b[0m\n\u001b[0;32m    118\u001b[0m             \u001b[1;32mif\u001b[0m \u001b[0missparse\u001b[0m\u001b[1;33m(\u001b[0m\u001b[0mX\u001b[0m\u001b[1;33m)\u001b[0m\u001b[1;33m:\u001b[0m\u001b[1;33m\u001b[0m\u001b[0m\n",
      "\u001b[1;32m~\\Anaconda\\lib\\site-packages\\sklearn\\utils\\validation.py\u001b[0m in \u001b[0;36mcheck_array\u001b[1;34m(array, accept_sparse, dtype, order, copy, force_all_finite, ensure_2d, allow_nd, ensure_min_samples, ensure_min_features, warn_on_dtype, estimator)\u001b[0m\n\u001b[0;32m    451\u001b[0m                              % (array.ndim, estimator_name))\n\u001b[0;32m    452\u001b[0m         \u001b[1;32mif\u001b[0m \u001b[0mforce_all_finite\u001b[0m\u001b[1;33m:\u001b[0m\u001b[1;33m\u001b[0m\u001b[0m\n\u001b[1;32m--> 453\u001b[1;33m             \u001b[0m_assert_all_finite\u001b[0m\u001b[1;33m(\u001b[0m\u001b[0marray\u001b[0m\u001b[1;33m)\u001b[0m\u001b[1;33m\u001b[0m\u001b[0m\n\u001b[0m\u001b[0;32m    454\u001b[0m \u001b[1;33m\u001b[0m\u001b[0m\n\u001b[0;32m    455\u001b[0m     \u001b[0mshape_repr\u001b[0m \u001b[1;33m=\u001b[0m \u001b[0m_shape_repr\u001b[0m\u001b[1;33m(\u001b[0m\u001b[0marray\u001b[0m\u001b[1;33m.\u001b[0m\u001b[0mshape\u001b[0m\u001b[1;33m)\u001b[0m\u001b[1;33m\u001b[0m\u001b[0m\n",
      "\u001b[1;32m~\\Anaconda\\lib\\site-packages\\sklearn\\utils\\validation.py\u001b[0m in \u001b[0;36m_assert_all_finite\u001b[1;34m(X)\u001b[0m\n\u001b[0;32m     42\u001b[0m             and not np.isfinite(X).all()):\n\u001b[0;32m     43\u001b[0m         raise ValueError(\"Input contains NaN, infinity\"\n\u001b[1;32m---> 44\u001b[1;33m                          \" or a value too large for %r.\" % X.dtype)\n\u001b[0m\u001b[0;32m     45\u001b[0m \u001b[1;33m\u001b[0m\u001b[0m\n\u001b[0;32m     46\u001b[0m \u001b[1;33m\u001b[0m\u001b[0m\n",
      "\u001b[1;31mValueError\u001b[0m: Input contains NaN, infinity or a value too large for dtype('float32')."
     ]
    }
   ],
   "source": [
    "#CART classification and regression Tree\n",
    "from sklearn.tree import DecisionTreeRegressor\n",
    "regressor = DecisionTreeRegressor(random_state=0)\n",
    "regressorpatent = regressor.fit(Xpatent,ypatent)"
   ]
  },
  {
   "cell_type": "code",
   "execution_count": null,
   "metadata": {
    "collapsed": true
   },
   "outputs": [],
   "source": [
    "regressoragreement = regressor.fit(Xagreement,yagreement)"
   ]
  },
  {
   "cell_type": "code",
   "execution_count": null,
   "metadata": {
    "collapsed": true
   },
   "outputs": [],
   "source": [
    "regressorreturn = regressor.fit(Xreturn,yreturn)"
   ]
  },
  {
   "cell_type": "code",
   "execution_count": 62,
   "metadata": {},
   "outputs": [
    {
     "data": {
      "text/plain": [
       "array([150000.])"
      ]
     },
     "execution_count": 62,
     "metadata": {},
     "output_type": "execute_result"
    }
   ],
   "source": [
    "#Predict the rest of the data set, except training data?\n",
    "ypatent_pred = regressorpatent.predict(Xpatent)\n",
    "ypatent_pred"
   ]
  },
  {
   "cell_type": "code",
   "execution_count": null,
   "metadata": {
    "collapsed": true
   },
   "outputs": [],
   "source": [
    "yagreement_pred = regressoragreement.predict(Xagreement)\n",
    "yagreement_pred"
   ]
  },
  {
   "cell_type": "code",
   "execution_count": null,
   "metadata": {
    "collapsed": true
   },
   "outputs": [],
   "source": [
    "yreturn_pred = regressor.predict(Xreturn)\n",
    "yreturn_pred"
   ]
  },
  {
   "cell_type": "code",
   "execution_count": 63,
   "metadata": {},
   "outputs": [
    {
     "data": {
      "image/png": "[encoded data removed]",
      "text/plain": [
       "<Figure size 432x288 with 1 Axes>"
      ]
     },
     "metadata": {},
     "output_type": "display_data"
    }
   ],
   "source": [
    "#Change graph. What can we plot?\n",
    "plt.scatter(X,y,color='red')\n",
    "plt.plot(X, regressor.predict(X), color=\"blue\")\n",
    "plt.title(\"Truth or Bluff (Decision Tree Regression)\")\n",
    "plt.xlabel(\"Position Level\")\n",
    "plt.ylabel('Salary')\n",
    "plt.show()"
   ]
  },
  {
   "cell_type": "markdown",
   "metadata": {},
   "source": [
    "## Ensemble Learning: Random Forest Insitution"
   ]
  },
  {
   "cell_type": "markdown",
   "metadata": {},
   "source": [
    "## Random Forest regression"
   ]
  },
  {
   "cell_type": "code",
   "execution_count": 11,
   "metadata": {},
   "outputs": [
    {
     "data": {
      "text/plain": [
       "(530602, 2)"
      ]
     },
     "execution_count": 11,
     "metadata": {},
     "output_type": "execute_result"
    }
   ],
   "source": [
    "#Xpatent_train, Xpatent_test, ypatent_train, ypatent_test=train_test_split(Xpatent,ypatent,test_size=0.2,random_state=0)\n",
    "#Xagreement_train, Xagreement_test, yagreement_train, yagreement_test=train_test_split(Xagreement,yagreement,test_size=0.2,random_state=0)\n",
    "#Xreturn_train, Xreturn_test, yreturn_train, yreturn_test=train_test_split(Xreturn,yreturn,test_size=0.2,random_state=0)\n",
    "\n",
    "Xpatent.shape"
   ]
  },
  {
   "cell_type": "code",
   "execution_count": 12,
   "metadata": {},
   "outputs": [
    {
     "name": "stderr",
     "output_type": "stream",
     "text": [
      "/anaconda3/lib/python3.6/site-packages/ipykernel_launcher.py:4: DataConversionWarning: A column-vector y was passed when a 1d array was expected. Please change the shape of y to (n_samples,), for example using ravel().\n",
      "  after removing the cwd from sys.path.\n",
      "/anaconda3/lib/python3.6/site-packages/ipykernel_launcher.py:7: DataConversionWarning: A column-vector y was passed when a 1d array was expected. Please change the shape of y to (n_samples,), for example using ravel().\n",
      "  import sys\n",
      "/anaconda3/lib/python3.6/site-packages/ipykernel_launcher.py:10: DataConversionWarning: A column-vector y was passed when a 1d array was expected. Please change the shape of y to (n_samples,), for example using ravel().\n",
      "  # Remove the CWD from sys.path while we load stuff.\n"
     ]
    }
   ],
   "source": [
    "# rf.predict(test[1:, 1:])\n",
    "from sklearn.ensemble import RandomForestRegressor\n",
    "regressor = RandomForestRegressor(n_estimators=10, random_state=0)\n",
    "regressor.fit(Xpatent_train,ypatent_train)\n",
    "predictionpatent = regressor.predict(Xpatent_test)\n",
    "\n",
    "regressor.fit(Xagreement,yagreement)\n",
    "predictionagreement = regressor.predict(Xagreement_test)\n",
    "\n",
    "regressor.fit(Xreturn,yreturn)\n",
    "predictionreturn = regressor.predict(Xreturn_test)"
   ]
  },
  {
   "cell_type": "code",
   "execution_count": null,
   "metadata": {},
   "outputs": [],
   "source": [
    "errors = abs(predictionpatent - ypatent_test)\n",
    "print('Metrics for Random Forest Trained on Expanded Data')\n",
    "print('Average absolute error:', round(np.mean(errors), ypatent_test[1]), 'degrees.')\n",
    "\n",
    "# Calculate mean absolute percentage error (MAPE)\n",
    "mape = np.mean(100 * (errors / ypatent_test[1]))\n",
    "\n",
    "# Calculate and display accuracy\n",
    "accuracy = 100 - mape\n",
    "print('Accuracy:', round(accuracy, 2), '%.')"
   ]
  },
  {
   "cell_type": "code",
   "execution_count": null,
   "metadata": {},
   "outputs": [],
   "source": [
    "errors = abs(predictionagreement - ypatent_test)\n",
    "print('Metrics for Random Forest Trained on Expanded Data')\n",
    "print('Average absolute error:', round(np.mean(errors), ypatent_test[1]), 'degrees.')\n",
    "\n",
    "# Calculate mean absolute percentage error (MAPE)\n",
    "mape = np.mean(100 * (errors / ypatent_test[1]))\n",
    "\n",
    "# Calculate and display accuracy\n",
    "accuracy = 100 - mape\n",
    "print('Accuracy:', round(accuracy, 2), '%.')"
   ]
  },
  {
   "cell_type": "code",
   "execution_count": null,
   "metadata": {},
   "outputs": [],
   "source": [
    "errors = abs(predictionreturn - ypatent_test)\n",
    "print('Metrics for Random Forest Trained on Expanded Data')\n",
    "print('Average absolute error:', round(np.mean(errors), ypatent_test[1]), 'degrees.')\n",
    "\n",
    "# Calculate mean absolute percentage error (MAPE)\n",
    "mape = np.mean(100 * (errors / ypatent_test[1]))\n",
    "\n",
    "# Calculate and display accuracy\n",
    "accuracy = 100 - mape\n",
    "print('Accuracy:', round(accuracy, 2), '%.')"
   ]
  },
  {
   "cell_type": "markdown",
   "metadata": {},
   "source": [
    "## Logistic regression"
   ]
  },
  {
   "cell_type": "code",
   "execution_count": 98,
   "metadata": {},
   "outputs": [
    {
     "ename": "NameError",
     "evalue": "name 'X' is not defined",
     "output_type": "error",
     "traceback": [
      "\u001b[1;31m---------------------------------------------------------------------------\u001b[0m",
      "\u001b[1;31mNameError\u001b[0m                                 Traceback (most recent call last)",
      "\u001b[1;32m<ipython-input-98-f3ef7e51b0f1>\u001b[0m in \u001b[0;36m<module>\u001b[1;34m()\u001b[0m\n\u001b[0;32m      1\u001b[0m \u001b[1;32mfrom\u001b[0m \u001b[0msklearn\u001b[0m\u001b[1;33m.\u001b[0m\u001b[0mcross_validation\u001b[0m \u001b[1;32mimport\u001b[0m \u001b[0mtrain_test_split\u001b[0m\u001b[1;33m\u001b[0m\u001b[0m\n\u001b[1;32m----> 2\u001b[1;33m \u001b[0mX_train\u001b[0m\u001b[1;33m,\u001b[0m \u001b[0mX_test\u001b[0m\u001b[1;33m,\u001b[0m \u001b[0my_train\u001b[0m\u001b[1;33m,\u001b[0m \u001b[0my_test\u001b[0m\u001b[1;33m=\u001b[0m\u001b[0mtrain_test_split\u001b[0m\u001b[1;33m(\u001b[0m\u001b[0mX\u001b[0m\u001b[1;33m,\u001b[0m \u001b[0my\u001b[0m\u001b[1;33m,\u001b[0m \u001b[0mtest_size\u001b[0m\u001b[1;33m=\u001b[0m\u001b[1;36m0.50\u001b[0m\u001b[1;33m,\u001b[0m\u001b[0mrandom_state\u001b[0m\u001b[1;33m=\u001b[0m\u001b[1;36m0\u001b[0m\u001b[1;33m)\u001b[0m\u001b[1;33m\u001b[0m\u001b[0m\n\u001b[0m",
      "\u001b[1;31mNameError\u001b[0m: name 'X' is not defined"
     ]
    }
   ],
   "source": [
    "from sklearn.cross_validation import train_test_split\n",
    "X_train, X_test, y_train, y_test=train_test_split(X, y, test_size=0.50,random_state=0)"
   ]
  },
  {
   "cell_type": "code",
   "execution_count": null,
   "metadata": {
    "collapsed": true
   },
   "outputs": [],
   "source": [
    "from sklearn.preprocessing import StandardScaler\n",
    "sc_X=StandardScaler()\n",
    "Xpatent_train=sc_X.fit_transform(Xpatent_train)\n",
    "Xpatent_test=sc_X.transform(Xpatent_test)\n",
    "\n",
    "Xagreement_train=sc_X.fit_transform(Xagreement_train)\n",
    "Xagreement_test=sc_X.transform(Xagreement_test)\n",
    "\n",
    "Xreturn_train=sc_X.fit_transform(Xreturn_train)\n",
    "Xreturn_test=sc_X.transform(Xreturn_test)"
   ]
  },
  {
   "cell_type": "code",
   "execution_count": null,
   "metadata": {
    "collapsed": true
   },
   "outputs": [],
   "source": [
    "#fitting into the training set\n",
    "from sklearn.linear_model import LogisticRegression\n",
    "classifier=LogisticRegression(random_state=0)\n",
    "classifier.fit(Xpatent_train, ypatent_train)"
   ]
  },
  {
   "cell_type": "code",
   "execution_count": 33,
   "metadata": {
    "collapsed": true
   },
   "outputs": [],
   "source": [
    "#Predicting the test set results\n",
    "ypatent_pred = classifier.predict(Xpatent_test)"
   ]
  },
  {
   "cell_type": "code",
   "execution_count": 101,
   "metadata": {
    "collapsed": true
   },
   "outputs": [],
   "source": [
    "classifier.fit(Xagreement_train, yagreement_train)\n",
    "yagreement_pred = classifier.predict(Xagreement_test)"
   ]
  },
  {
   "cell_type": "code",
   "execution_count": 102,
   "metadata": {
    "collapsed": true
   },
   "outputs": [],
   "source": [
    "classifier.fit(Xreturn_train, yreturn_train)\n",
    "yreturn_pred = classifier.predict(Xreturn_test)"
   ]
  },
  {
   "cell_type": "code",
   "execution_count": 103,
   "metadata": {},
   "outputs": [
    {
     "ename": "ValueError",
     "evalue": "Classification metrics can't handle a mix of multiclass and continuous targets",
     "output_type": "error",
     "traceback": [
      "\u001b[1;31m---------------------------------------------------------------------------\u001b[0m",
      "\u001b[1;31mValueError\u001b[0m                                Traceback (most recent call last)",
      "\u001b[1;32m<ipython-input-103-8090332d0280>\u001b[0m in \u001b[0;36m<module>\u001b[1;34m()\u001b[0m\n\u001b[0;32m      1\u001b[0m \u001b[1;31m#making the confusion matrix\u001b[0m\u001b[1;33m\u001b[0m\u001b[1;33m\u001b[0m\u001b[0m\n\u001b[0;32m      2\u001b[0m \u001b[1;32mfrom\u001b[0m \u001b[0msklearn\u001b[0m\u001b[1;33m.\u001b[0m\u001b[0mmetrics\u001b[0m \u001b[1;32mimport\u001b[0m \u001b[0mconfusion_matrix\u001b[0m\u001b[1;33m\u001b[0m\u001b[0m\n\u001b[1;32m----> 3\u001b[1;33m \u001b[0mcmpatent\u001b[0m \u001b[1;33m=\u001b[0m \u001b[0mconfusion_matrix\u001b[0m\u001b[1;33m(\u001b[0m\u001b[0mypatent_test\u001b[0m\u001b[1;33m,\u001b[0m \u001b[0mypatent_pred\u001b[0m\u001b[1;33m)\u001b[0m\u001b[1;33m\u001b[0m\u001b[0m\n\u001b[0m\u001b[0;32m      4\u001b[0m \u001b[0mcmagreement\u001b[0m \u001b[1;33m=\u001b[0m \u001b[0mconfusion_matrix\u001b[0m\u001b[1;33m(\u001b[0m\u001b[0myagreement_test\u001b[0m\u001b[1;33m,\u001b[0m \u001b[0myagreement_pred\u001b[0m\u001b[1;33m)\u001b[0m\u001b[1;33m\u001b[0m\u001b[0m\n\u001b[0;32m      5\u001b[0m \u001b[0mcmreturn\u001b[0m \u001b[1;33m=\u001b[0m \u001b[0mconfusion_matrix\u001b[0m\u001b[1;33m(\u001b[0m\u001b[0myreturn_test\u001b[0m\u001b[1;33m,\u001b[0m \u001b[0myreturn_pred\u001b[0m\u001b[1;33m)\u001b[0m\u001b[1;33m\u001b[0m\u001b[0m\n",
      "\u001b[1;32m~\\Anaconda\\lib\\site-packages\\sklearn\\metrics\\classification.py\u001b[0m in \u001b[0;36mconfusion_matrix\u001b[1;34m(y_true, y_pred, labels, sample_weight)\u001b[0m\n\u001b[0;32m    248\u001b[0m \u001b[1;33m\u001b[0m\u001b[0m\n\u001b[0;32m    249\u001b[0m     \"\"\"\n\u001b[1;32m--> 250\u001b[1;33m     \u001b[0my_type\u001b[0m\u001b[1;33m,\u001b[0m \u001b[0my_true\u001b[0m\u001b[1;33m,\u001b[0m \u001b[0my_pred\u001b[0m \u001b[1;33m=\u001b[0m \u001b[0m_check_targets\u001b[0m\u001b[1;33m(\u001b[0m\u001b[0my_true\u001b[0m\u001b[1;33m,\u001b[0m \u001b[0my_pred\u001b[0m\u001b[1;33m)\u001b[0m\u001b[1;33m\u001b[0m\u001b[0m\n\u001b[0m\u001b[0;32m    251\u001b[0m     \u001b[1;32mif\u001b[0m \u001b[0my_type\u001b[0m \u001b[1;32mnot\u001b[0m \u001b[1;32min\u001b[0m \u001b[1;33m(\u001b[0m\u001b[1;34m\"binary\"\u001b[0m\u001b[1;33m,\u001b[0m \u001b[1;34m\"multiclass\"\u001b[0m\u001b[1;33m)\u001b[0m\u001b[1;33m:\u001b[0m\u001b[1;33m\u001b[0m\u001b[0m\n\u001b[0;32m    252\u001b[0m         \u001b[1;32mraise\u001b[0m \u001b[0mValueError\u001b[0m\u001b[1;33m(\u001b[0m\u001b[1;34m\"%s is not supported\"\u001b[0m \u001b[1;33m%\u001b[0m \u001b[0my_type\u001b[0m\u001b[1;33m)\u001b[0m\u001b[1;33m\u001b[0m\u001b[0m\n",
      "\u001b[1;32m~\\Anaconda\\lib\\site-packages\\sklearn\\metrics\\classification.py\u001b[0m in \u001b[0;36m_check_targets\u001b[1;34m(y_true, y_pred)\u001b[0m\n\u001b[0;32m     79\u001b[0m     \u001b[1;32mif\u001b[0m \u001b[0mlen\u001b[0m\u001b[1;33m(\u001b[0m\u001b[0my_type\u001b[0m\u001b[1;33m)\u001b[0m \u001b[1;33m>\u001b[0m \u001b[1;36m1\u001b[0m\u001b[1;33m:\u001b[0m\u001b[1;33m\u001b[0m\u001b[0m\n\u001b[0;32m     80\u001b[0m         raise ValueError(\"Classification metrics can't handle a mix of {0} \"\n\u001b[1;32m---> 81\u001b[1;33m                          \"and {1} targets\".format(type_true, type_pred))\n\u001b[0m\u001b[0;32m     82\u001b[0m \u001b[1;33m\u001b[0m\u001b[0m\n\u001b[0;32m     83\u001b[0m     \u001b[1;31m# We can't have more than one value on y_type => The set is no more needed\u001b[0m\u001b[1;33m\u001b[0m\u001b[1;33m\u001b[0m\u001b[0m\n",
      "\u001b[1;31mValueError\u001b[0m: Classification metrics can't handle a mix of multiclass and continuous targets"
     ]
    }
   ],
   "source": [
    "#making the confusion matrix\n",
    "from sklearn.metrics import confusion_matrix\n",
    "cmpatent = confusion_matrix(ypatent_test, ypatent_pred)\n",
    "cmagreement = confusion_matrix(yagreement_test, yagreement_pred)\n",
    "cmreturn = confusion_matrix(yreturn_test, yreturn_pred)"
   ]
  },
  {
   "cell_type": "code",
   "execution_count": null,
   "metadata": {
    "collapsed": true
   },
   "outputs": [],
   "source": [
    "#ADJUST!!!!!!\n",
    "\n",
    "\n",
    "\n",
    "#Visualising the training set results\n",
    "from matplotlib.colors import ListedColormap\n",
    "X_set,y_set=X_test, y_test\n",
    "X1,X2=np.meshgrid(np.arange(start=X_set[:,0].min()-1,stop=X_set[:,0].max()+1,step=0.01),\n",
    "                  np.arange(start=X_set[:,1].min()-1,stop=X_set[:,1].max()+1,step=0.01))\n",
    "\n",
    "#step is the resolution of the pixcel data\n",
    "#+1 -1 to make all the point in the picture\n",
    "# y is represented by the color\n",
    "plt.contourf(X1,X2, classifier.predict(np.array([X1.ravel(),X2.ravel()]).T).reshape(X1.shape),\n",
    "            alpha=0.75, cmap=ListedColormap(('red','green')))\n",
    "\n",
    "#np.array() creating the array\n",
    "#ravel() for x1 to create continous number within the range of X1\n",
    "#X1 and X2 will be the independent variables.\n",
    "# np.array([X1.ravel(),X2.ravel()]) put the two array into one\n",
    "#.T (transpose)create a array that each role is a set of [X1, X2] \n",
    "# use the pair of X1 X2 to predict y and shape y into the same form of X1\n",
    "# all the prediction point ahve been drawn till this still\n",
    "\n",
    "plt.xlim(X1.min(),X1.max())\n",
    "plt.ylim(X2.min(),X2.max())\n",
    "print(np.unique(y_set))\n",
    "#print(X_set[y_set==j,0])\n",
    "print(X_set)\n",
    "print(X_set[1,0])\n",
    "for i, j in enumerate(np.unique(y_set)):\n",
    "    plt.scatter(X_set[y_set==j,0], X_set[y_set==j,1],\n",
    "                c=ListedColormap(('red','green'))(i), label=j)\n",
    "plt.title('Logistic Regression (Testing set)')   \n",
    "plt.xlabel('Age')\n",
    "plt.ylabel('Estimated Salary')\n",
    "plt.legend()\n",
    "plt.show()\n"
   ]
  },
  {
   "cell_type": "markdown",
   "metadata": {},
   "source": [
    "## KNN"
   ]
  },
  {
   "cell_type": "code",
   "execution_count": 67,
   "metadata": {},
   "outputs": [
    {
     "name": "stderr",
     "output_type": "stream",
     "text": [
      "C:\\Users\\xiaoran.cai\\AppData\\Local\\Continuum\\anaconda3\\lib\\site-packages\\sklearn\\utils\\validation.py:475: DataConversionWarning: Data with input dtype int64 was converted to float64 by StandardScaler.\n",
      "  warnings.warn(msg, DataConversionWarning)\n"
     ]
    }
   ],
   "source": [
    "#Already done?\n",
    "\n",
    "#from sklearn.cross_validation import train_test_split\n",
    "#X_train, X_test, y_train, y_test=train_test_split(X, y, test_size=0.25,random_state=0)\n",
    "#from sklearn.preprocessing import StandardScaler\n",
    "#sc_X=StandardScaler()\n",
    "#X_train=sc_X.fit_transform(X_train)\n",
    "#X_test=sc_X.transform(X_test)"
   ]
  },
  {
   "cell_type": "code",
   "execution_count": null,
   "metadata": {},
   "outputs": [
    {
     "data": {
      "text/plain": [
       "KNeighborsClassifier(algorithm='auto', leaf_size=30, metric='minkowski',\n",
       "           metric_params=None, n_jobs=1, n_neighbors=5, p=2,\n",
       "           weights='uniform')"
      ]
     },
     "execution_count": 133,
     "metadata": {},
     "output_type": "execute_result"
    }
   ],
   "source": [
    "from sklearn.neighbors import KNeighborsClassifier\n",
    "classifier = KNeighborsClassifier(n_neighbors=5, metric='minkowski', p=2)\n",
    "classifier.fit(Xpatent_train, ypatent_train)"
   ]
  },
  {
   "cell_type": "code",
   "execution_count": null,
   "metadata": {
    "collapsed": true
   },
   "outputs": [],
   "source": [
    "ypatent_pred=classifier.predict(Xpatent_test)\n",
    "\n",
    "classifier.fit(Xagreement_train, yagreement_train)\n",
    "yagreement_pred = classifier.predict(Xagreement_test)\n",
    "\n",
    "classifier.fit(Xreturn_train, yreturn_train)\n",
    "yreturn_pred = classifier.predict(Xreturn_test)"
   ]
  },
  {
   "cell_type": "code",
   "execution_count": null,
   "metadata": {
    "collapsed": true
   },
   "outputs": [],
   "source": [
    "cmpatent = confusion_matrix(ypatent_test, ypatent_pred)\n",
    "cmagreement = confusion_matrix(yagreement_test, yagreement_pred)\n",
    "cmreturn = confusion_matrix(yreturn_test, yreturn_pred)"
   ]
  },
  {
   "cell_type": "code",
   "execution_count": 77,
   "metadata": {},
   "outputs": [
    {
     "name": "stdout",
     "output_type": "stream",
     "text": [
      "[0 1]\n",
      "[[ 0.58164944 -0.88670699]\n",
      " [-0.60673761  1.46173768]\n",
      " [-0.01254409 -0.5677824 ]\n",
      " [-0.60673761  1.89663484]\n",
      " [ 1.37390747 -1.40858358]\n",
      " [ 1.47293972  0.99784738]\n",
      " [ 0.08648817 -0.79972756]\n",
      " [-0.01254409 -0.24885782]\n",
      " [-0.21060859 -0.5677824 ]\n",
      " [-0.21060859 -0.19087153]\n",
      " [-0.30964085 -1.29261101]\n",
      " [-0.30964085 -0.5677824 ]\n",
      " [ 0.38358493  0.09905991]\n",
      " [ 0.8787462  -0.59677555]\n",
      " [ 2.06713324 -1.17663843]\n",
      " [ 1.07681071 -0.13288524]\n",
      " [ 0.68068169  1.78066227]\n",
      " [-0.70576986  0.56295021]\n",
      " [ 0.77971394  0.35999821]\n",
      " [ 0.8787462  -0.53878926]\n",
      " [-1.20093113 -1.58254245]\n",
      " [ 2.1661655   0.93986109]\n",
      " [-0.01254409  1.22979253]\n",
      " [ 0.18552042  1.08482681]\n",
      " [ 0.38358493 -0.48080297]\n",
      " [-0.30964085 -0.30684411]\n",
      " [ 0.97777845 -0.8287207 ]\n",
      " [ 0.97777845  1.8676417 ]\n",
      " [-0.01254409  1.25878567]\n",
      " [-0.90383437  2.27354572]\n",
      " [-1.20093113 -1.58254245]\n",
      " [ 2.1661655  -0.79972756]\n",
      " [-1.39899564 -1.46656987]\n",
      " [ 0.38358493  2.30253886]\n",
      " [ 0.77971394  0.76590222]\n",
      " [-1.00286662 -0.30684411]\n",
      " [ 0.08648817  0.76590222]\n",
      " [-1.00286662  0.56295021]\n",
      " [ 0.28455268  0.07006676]\n",
      " [ 0.68068169 -1.26361786]\n",
      " [-0.50770535 -0.01691267]\n",
      " [-1.79512465  0.35999821]\n",
      " [-0.70576986  0.12805305]\n",
      " [ 0.38358493  0.30201192]\n",
      " [-0.30964085  0.07006676]\n",
      " [-0.50770535  2.30253886]\n",
      " [ 0.18552042  0.04107362]\n",
      " [ 1.27487521  2.21555943]\n",
      " [ 0.77971394  0.27301877]\n",
      " [-0.30964085  0.1570462 ]\n",
      " [-0.01254409 -0.53878926]\n",
      " [-0.21060859  0.1570462 ]\n",
      " [-0.11157634  0.24402563]\n",
      " [-0.01254409 -0.24885782]\n",
      " [ 2.1661655   1.11381995]\n",
      " [-1.79512465  0.35999821]\n",
      " [ 1.86906873  0.12805305]\n",
      " [ 0.38358493 -0.13288524]\n",
      " [-1.20093113  0.30201192]\n",
      " [ 0.77971394  1.37475825]\n",
      " [-0.30964085 -0.24885782]\n",
      " [-1.6960924  -0.04590581]\n",
      " [-1.00286662 -0.74174127]\n",
      " [ 0.28455268  0.50496393]\n",
      " [-0.11157634 -1.06066585]\n",
      " [-1.10189888  0.59194336]\n",
      " [ 0.08648817 -0.79972756]\n",
      " [-1.00286662  1.54871711]\n",
      " [-0.70576986  1.40375139]\n",
      " [-1.29996338  0.50496393]\n",
      " [-0.30964085  0.04107362]\n",
      " [-0.11157634  0.01208048]\n",
      " [-0.30964085 -0.88670699]\n",
      " [ 0.8787462  -1.3505973 ]\n",
      " [-0.30964085  2.24455257]\n",
      " [ 0.97777845  1.98361427]\n",
      " [-1.20093113  0.47597078]\n",
      " [-1.29996338  0.27301877]\n",
      " [ 1.37390747  1.98361427]\n",
      " [ 1.27487521 -1.3505973 ]\n",
      " [-0.30964085 -0.27785096]\n",
      " [-0.50770535  1.25878567]\n",
      " [-0.80480212  1.08482681]\n",
      " [ 0.97777845 -1.06066585]\n",
      " [ 0.28455268  0.30201192]\n",
      " [ 0.97777845  0.76590222]\n",
      " [-0.70576986 -1.49556302]\n",
      " [-0.70576986  0.04107362]\n",
      " [ 0.48261718  1.72267598]\n",
      " [ 2.06713324  0.18603934]\n",
      " [-1.99318916 -0.74174127]\n",
      " [-0.21060859  1.40375139]\n",
      " [ 0.38358493  0.59194336]\n",
      " [ 0.8787462  -1.14764529]\n",
      " [-1.20093113 -0.77073441]\n",
      " [ 0.18552042  0.24402563]\n",
      " [ 0.77971394 -0.30684411]\n",
      " [ 2.06713324 -0.79972756]\n",
      " [ 0.77971394  0.12805305]\n",
      " [-0.30964085  0.6209365 ]\n",
      " [-1.00286662 -0.30684411]\n",
      " [ 0.18552042 -0.3648304 ]\n",
      " [ 2.06713324  2.12857999]\n",
      " [ 1.86906873 -1.26361786]\n",
      " [ 1.37390747 -0.91570013]\n",
      " [ 0.8787462   1.25878567]\n",
      " [ 1.47293972  2.12857999]\n",
      " [-0.30964085 -1.23462472]\n",
      " [ 1.96810099  0.91086794]\n",
      " [ 0.68068169 -0.71274813]\n",
      " [-1.49802789  0.35999821]\n",
      " [ 0.77971394 -1.3505973 ]\n",
      " [ 0.38358493 -0.13288524]\n",
      " [-1.00286662  0.41798449]\n",
      " [-0.01254409 -0.30684411]\n",
      " [-1.20093113  0.41798449]\n",
      " [-0.90383437 -1.20563157]\n",
      " [-0.11157634  0.04107362]\n",
      " [-1.59706014 -0.42281668]\n",
      " [ 0.97777845 -1.00267957]\n",
      " [ 1.07681071 -1.20563157]\n",
      " [-0.01254409 -0.13288524]\n",
      " [-1.10189888 -1.52455616]\n",
      " [ 0.77971394 -1.20563157]\n",
      " [ 0.97777845  2.07059371]\n",
      " [-1.20093113 -1.52455616]\n",
      " [-0.30964085  0.79489537]\n",
      " [ 0.08648817 -0.30684411]\n",
      " [-1.39899564 -1.23462472]\n",
      " [-0.60673761 -1.49556302]\n",
      " [ 0.77971394  0.53395707]\n",
      " [-0.30964085 -0.33583725]\n",
      " [ 1.77003648 -0.27785096]\n",
      " [ 0.8787462  -1.03167271]\n",
      " [ 0.18552042  0.07006676]\n",
      " [-0.60673761  0.8818748 ]\n",
      " [-1.89415691 -1.40858358]\n",
      " [-1.29996338  0.59194336]\n",
      " [-0.30964085  0.53395707]\n",
      " [-1.00286662 -1.089659  ]\n",
      " [ 1.17584296 -1.43757673]\n",
      " [ 0.18552042 -0.30684411]\n",
      " [ 1.17584296 -0.74174127]\n",
      " [-0.30964085  0.07006676]\n",
      " [ 0.18552042  2.09958685]\n",
      " [ 0.77971394 -1.089659  ]\n",
      " [ 0.08648817  0.04107362]\n",
      " [-1.79512465  0.12805305]\n",
      " [-0.90383437  0.1570462 ]\n",
      " [-0.70576986  0.18603934]\n",
      " [ 0.8787462  -1.29261101]\n",
      " [ 0.18552042 -0.24885782]\n",
      " [-0.4086731   1.22979253]\n",
      " [-0.01254409  0.30201192]\n",
      " [ 0.38358493  0.1570462 ]\n",
      " [ 0.8787462  -0.65476184]\n",
      " [ 0.08648817  0.1570462 ]\n",
      " [-1.89415691 -1.29261101]\n",
      " [-0.11157634  0.30201192]\n",
      " [-0.21060859 -0.27785096]\n",
      " [ 0.28455268 -0.50979612]\n",
      " [-0.21060859  1.6067034 ]\n",
      " [ 0.97777845 -1.17663843]\n",
      " [-0.21060859  1.63569655]\n",
      " [ 1.27487521  1.8676417 ]\n",
      " [-1.10189888 -0.3648304 ]\n",
      " [-0.01254409  0.04107362]\n",
      " [ 0.08648817 -0.24885782]\n",
      " [-1.59706014 -1.23462472]\n",
      " [-0.50770535 -0.27785096]\n",
      " [ 0.97777845  0.12805305]\n",
      " [ 1.96810099 -1.3505973 ]\n",
      " [ 1.47293972  0.07006676]\n",
      " [-0.60673761  1.37475825]\n",
      " [ 1.57197197  0.01208048]\n",
      " [-0.80480212  0.30201192]\n",
      " [ 1.96810099  0.73690908]\n",
      " [-1.20093113 -0.50979612]\n",
      " [ 0.68068169  0.27301877]\n",
      " [-1.39899564 -0.42281668]\n",
      " [ 0.18552042  0.1570462 ]\n",
      " [-0.50770535 -1.20563157]\n",
      " [ 0.58164944  2.01260742]\n",
      " [-1.59706014 -1.49556302]\n",
      " [-0.50770535 -0.53878926]\n",
      " [ 0.48261718  1.83864855]\n",
      " [-1.39899564 -1.089659  ]\n",
      " [ 0.77971394 -1.37959044]\n",
      " [-0.30964085 -0.42281668]\n",
      " [ 1.57197197  0.99784738]\n",
      " [ 0.97777845  1.43274454]\n",
      " [-0.30964085 -0.48080297]\n",
      " [-0.11157634  2.15757314]\n",
      " [-1.49802789 -0.1038921 ]\n",
      " [-0.11157634  1.95462113]\n",
      " [-0.70576986 -0.33583725]\n",
      " [-0.50770535 -0.8287207 ]\n",
      " [ 0.68068169 -1.37959044]\n",
      " [-0.80480212 -1.58254245]\n",
      " [-1.89415691 -1.46656987]\n",
      " [ 1.07681071  0.12805305]\n",
      " [ 0.08648817  1.51972397]\n",
      " [-0.30964085  0.09905991]\n",
      " [ 0.08648817  0.04107362]\n",
      " [-1.39899564 -1.3505973 ]\n",
      " [ 0.28455268  0.07006676]\n",
      " [-0.90383437  0.38899135]\n",
      " [ 1.57197197 -1.26361786]\n",
      " [-0.30964085 -0.74174127]\n",
      " [-0.11157634  0.1570462 ]\n",
      " [-0.90383437 -0.65476184]\n",
      " [-0.70576986 -0.04590581]\n",
      " [ 0.38358493 -0.45180983]\n",
      " [-0.80480212  1.89663484]\n",
      " [ 1.37390747  1.28777882]\n",
      " [ 1.17584296 -0.97368642]\n",
      " [ 1.77003648  1.83864855]\n",
      " [-0.90383437 -0.24885782]\n",
      " [-0.80480212  0.56295021]\n",
      " [-1.20093113 -1.5535493 ]\n",
      " [-0.50770535 -1.11865214]\n",
      " [ 0.28455268  0.07006676]\n",
      " [-0.21060859 -1.06066585]\n",
      " [ 1.67100423  1.6067034 ]\n",
      " [ 0.97777845  1.78066227]\n",
      " [ 0.28455268  0.04107362]\n",
      " [-0.80480212 -0.21986468]\n",
      " [-0.11157634  0.07006676]\n",
      " [ 0.28455268 -0.19087153]\n",
      " [ 1.96810099 -0.65476184]\n",
      " [-0.80480212  1.3457651 ]\n",
      " [-1.79512465 -0.59677555]\n",
      " [-0.11157634  0.12805305]\n",
      " [ 0.28455268 -0.30684411]\n",
      " [ 1.07681071  0.56295021]\n",
      " [-1.00286662  0.27301877]\n",
      " [ 1.47293972  0.35999821]\n",
      " [ 0.18552042 -0.3648304 ]\n",
      " [ 2.1661655  -1.03167271]\n",
      " [-0.30964085  1.11381995]\n",
      " [-1.6960924   0.07006676]\n",
      " [-0.01254409  0.04107362]\n",
      " [ 0.08648817  1.05583366]\n",
      " [-0.11157634 -0.3648304 ]\n",
      " [-1.20093113  0.07006676]\n",
      " [-0.30964085 -1.3505973 ]\n",
      " [ 1.57197197  1.11381995]\n",
      " [-0.80480212 -1.52455616]\n",
      " [ 0.08648817  1.8676417 ]\n",
      " [-0.90383437 -0.77073441]\n",
      " [-0.50770535 -0.77073441]\n",
      " [-0.30964085 -0.91570013]\n",
      " [ 0.28455268 -0.71274813]\n",
      " [ 0.28455268  0.07006676]\n",
      " [ 0.08648817  1.8676417 ]\n",
      " [-1.10189888  1.95462113]\n",
      " [-1.6960924  -1.5535493 ]\n",
      " [-1.20093113 -1.089659  ]\n",
      " [-0.70576986 -0.1038921 ]\n",
      " [ 0.08648817  0.09905991]\n",
      " [ 0.28455268  0.27301877]\n",
      " [ 0.8787462  -0.5677824 ]\n",
      " [ 0.28455268 -1.14764529]\n",
      " [-0.11157634  0.67892279]\n",
      " [ 2.1661655  -0.68375498]\n",
      " [-1.29996338 -1.37959044]\n",
      " [-1.00286662 -0.94469328]\n",
      " [-0.01254409 -0.42281668]\n",
      " [-0.21060859 -0.45180983]\n",
      " [-1.79512465 -0.97368642]\n",
      " [ 1.77003648  0.99784738]\n",
      " [ 0.18552042 -0.3648304 ]\n",
      " [ 0.38358493  1.11381995]\n",
      " [-1.79512465 -1.3505973 ]\n",
      " [ 0.18552042 -0.13288524]\n",
      " [ 0.8787462  -1.43757673]\n",
      " [-1.99318916  0.47597078]\n",
      " [-0.30964085  0.27301877]\n",
      " [ 1.86906873 -1.06066585]\n",
      " [-0.4086731   0.07006676]\n",
      " [ 1.07681071 -0.88670699]\n",
      " [-1.10189888 -1.11865214]\n",
      " [-1.89415691  0.01208048]\n",
      " [ 0.08648817  0.27301877]\n",
      " [-1.20093113  0.33100506]\n",
      " [-1.29996338  0.30201192]\n",
      " [-1.00286662  0.44697764]\n",
      " [ 1.67100423 -0.88670699]\n",
      " [ 1.17584296  0.53395707]\n",
      " [ 1.07681071  0.53395707]\n",
      " [ 1.37390747  2.331532  ]\n",
      " [-0.30964085 -0.13288524]\n",
      " [ 0.38358493 -0.45180983]\n",
      " [-0.4086731  -0.77073441]\n",
      " [-0.11157634 -0.50979612]\n",
      " [ 0.97777845 -1.14764529]\n",
      " [-0.90383437 -0.77073441]\n",
      " [-0.21060859 -0.50979612]\n",
      " [-1.10189888 -0.45180983]\n",
      " [-1.20093113  1.40375139]]\n",
      "-0.6067376076655674\n"
     ]
    },
    {
     "data": {
      "image/png": "[encoded data removed]",
      "text/plain": [
       "<Figure size 432x288 with 1 Axes>"
      ]
     },
     "metadata": {},
     "output_type": "display_data"
    }
   ],
   "source": [
    "#Adjust!!!!!\n",
    "\n",
    "\n",
    "#Visualising the training set results\n",
    "from matplotlib.colors import ListedColormap\n",
    "X_set,y_set=X_train, y_train\n",
    "X1,X2=np.meshgrid(np.arange(start=X_set[:,0].min()-1,stop=X_set[:,0].max()+1,step=0.01),\n",
    "                  np.arange(start=X_set[:,1].min()-1,stop=X_set[:,1].max()+1,step=0.01))\n",
    "\n",
    "#step is the resolution of the pixcel data\n",
    "#+1 -1 to make all the point in the picture\n",
    "# y is represented by the color\n",
    "plt.contourf(X1,X2, classifier.predict(np.array([X1.ravel(),X2.ravel()]).T).reshape(X1.shape),\n",
    "            alpha=0.75, cmap=ListedColormap(('red','green')))\n",
    "\n",
    "#np.array() creating the array\n",
    "#ravel() for x1 to create continous number within the range of X1\n",
    "#X1 and X2 will be the independent variables.\n",
    "# np.array([X1.ravel(),X2.ravel()]) put the two array into one\n",
    "#.T (transpose)create a array that each role is a set of [X1, X2] \n",
    "# use the pair of X1 X2 to predict y and shape y into the same form of X1\n",
    "# all the prediction point ahve been drawn till this still\n",
    "\n",
    "plt.xlim(X1.min(),X1.max())\n",
    "plt.ylim(X2.min(),X2.max())\n",
    "print(np.unique(y_set))\n",
    "#print(X_set[y_set==j,0])\n",
    "print(X_set)\n",
    "print(X_set[1,0])\n",
    "for i, j in enumerate(np.unique(y_set)):\n",
    "    plt.scatter(X_set[y_set==j,0], X_set[y_set==j,1],\n",
    "                c=ListedColormap(('red','green'))(i), label=j)\n",
    "plt.title('Logistic Regression (Testing set)')   \n",
    "plt.xlabel('Age')\n",
    "plt.ylabel('Estimated Salary')\n",
    "plt.legend()\n",
    "plt.show()\n"
   ]
  },
  {
   "cell_type": "code",
   "execution_count": 79,
   "metadata": {},
   "outputs": [
    {
     "data": {
      "image/png": "[encoded data removed]",
      "text/plain": [
       "<Figure size 432x288 with 1 Axes>"
      ]
     },
     "metadata": {},
     "output_type": "display_data"
    }
   ],
   "source": [
    "#Adjust!!!!!\n",
    "\n",
    "\n",
    "#Visualising the training set results\n",
    "from matplotlib.colors import ListedColormap\n",
    "X_set,y_set=X_test, y_test\n",
    "X1,X2=np.meshgrid(np.arange(start=X_set[:,0].min()-1,stop=X_set[:,0].max()+1,step=0.01),\n",
    "                  np.arange(start=X_set[:,1].min()-1,stop=X_set[:,1].max()+1,step=0.01))\n",
    "\n",
    "#step is the resolution of the pixcel data\n",
    "#+1 -1 to make all the point in the picture\n",
    "# y is represented by the color\n",
    "plt.contourf(X1,X2, classifier.predict(np.array([X1.ravel(),X2.ravel()]).T).reshape(X1.shape),\n",
    "            alpha=0.75, cmap=ListedColormap(('red','green')))\n",
    "\n",
    "#np.array() creating the array\n",
    "#ravel() for x1 to create continous number within the range of X1\n",
    "#X1 and X2 will be the independent variables.\n",
    "# np.array([X1.ravel(),X2.ravel()]) put the two array into one\n",
    "#.T (transpose)create a array that each role is a set of [X1, X2] \n",
    "# use the pair of X1 X2 to predict y and shape y into the same form of X1\n",
    "# all the prediction point ahve been drawn till this still\n",
    "\n",
    "plt.xlim(X1.min(),X1.max())\n",
    "plt.ylim(X2.min(),X2.max())\n",
    "#print(np.unique(y_set))\n",
    "#print(X_set[y_set==j,0])\n",
    "#print(X_set)\n",
    "#print(X_set[1,0])\n",
    "for i, j in enumerate(np.unique(y_set)):\n",
    "    plt.scatter(X_set[y_set==j,0], X_set[y_set==j,1],\n",
    "                c=ListedColormap(('red','green'))(i), label=j)\n",
    "plt.title('Logistic Regression (Testing set)')   \n",
    "plt.xlabel('Age')\n",
    "plt.ylabel('Estimated Salary')\n",
    "plt.legend()\n",
    "plt.show()\n"
   ]
  }
 ],
 "metadata": {
  "kernelspec": {
   "display_name": "Python 3",
   "language": "python",
   "name": "python3"
  },
  "language_info": {
   "codemirror_mode": {
    "name": "ipython",
    "version": 3
   },
   "file_extension": ".py",
   "mimetype": "text/x-python",
   "name": "python",
   "nbconvert_exporter": "python",
   "pygments_lexer": "ipython3",
   "version": "3.6.5"
  }
 },
 "nbformat": 4,
 "nbformat_minor": 2
}
